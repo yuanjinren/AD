{
 "cells": [
  {
   "cell_type": "markdown",
   "metadata": {},
   "source": [
    "Demographic Variables: age, gender, race, marital status and education level\n",
    "\n",
    "Cognitive Tests: MMSE (Mini-Mental State Examination) CDRSB (Clinical Dementia Rating Sum of Boxes) ADAS (Alzheimer’s Disease Assessment Scale–Cognitive subscale) RAVLT (Rey Auditory Verbal Learning Test): neurophysiological tests evaluating an individual's episodic memory MOCA (Montreal Cognitive Assessment)\n",
    "\n",
    "Brain-Related Variables: Hippocampus, Ventricles, WholeBrain, Entorhinal, Fusiform and MidTemp\n",
    "\n",
    "Important Biomarkers: A-beta (Amyloid Beta), Tau, APOE4 and FDG (important proteins or biomarkers that are associated with Alzheimer’s disease or Mild Cognitive Impairment)"
   ]
  },
  {
   "cell_type": "code",
   "execution_count": 1,
   "metadata": {},
   "outputs": [],
   "source": [
    "import pandas as pd\n",
    "import numpy as np\n",
    "import matplotlib.pyplot as plt\n",
    "%matplotlib inline"
   ]
  },
  {
   "cell_type": "code",
   "execution_count": 2,
   "metadata": {},
   "outputs": [
    {
     "name": "stdout",
     "output_type": "stream",
     "text": [
      "(14740, 114)\n"
     ]
    },
    {
     "name": "stderr",
     "output_type": "stream",
     "text": [
      "/Applications/anaconda3/lib/python3.7/site-packages/IPython/core/interactiveshell.py:3058: DtypeWarning: Columns (20,105) have mixed types.Specify dtype option on import or set low_memory=False.\n",
      "  interactivity=interactivity, compiler=compiler, result=result)\n"
     ]
    }
   ],
   "source": [
    "adnimerge = pd.read_csv('adnimerge.csv')\n",
    "print(adnimerge.shape)"
   ]
  },
  {
   "cell_type": "code",
   "execution_count": 3,
   "metadata": {},
   "outputs": [],
   "source": [
    "lists = ['PTID','AGE','PTGENDER','PTEDUCAT','PTRACCAT','PTMARRY',\n",
    "            'CDRSB','ADAS11','ADAS13','MMSE','RAVLT.learning','RAVLT.forgetting','FAQ','MOCA.bl',\n",
    "             'mPACCdigit.bl','mPACCtrailsB.bl','EcogPtTotal','EcogSPTotal',\n",
    "            'APOE4','ABETA','ABETA.bl','TAU','TAU.bl','PTAU','PTAU.bl',\n",
    "            'FDG','AV45',\n",
    "            'Hippocampus.bl','WholeBrain.bl','Entorhinal.bl','MidTemp.bl','DX'\n",
    "           ]"
   ]
  },
  {
   "cell_type": "code",
   "execution_count": 4,
   "metadata": {},
   "outputs": [],
   "source": [
    "df = adnimerge[lists]"
   ]
  },
  {
   "cell_type": "code",
   "execution_count": 5,
   "metadata": {},
   "outputs": [
    {
     "name": "stderr",
     "output_type": "stream",
     "text": [
      "/Applications/anaconda3/lib/python3.7/site-packages/ipykernel_launcher.py:2: SettingWithCopyWarning: \n",
      "A value is trying to be set on a copy of a slice from a DataFrame\n",
      "\n",
      "See the caveats in the documentation: https://pandas.pydata.org/pandas-docs/stable/user_guide/indexing.html#returning-a-view-versus-a-copy\n",
      "  \n"
     ]
    }
   ],
   "source": [
    "# get rid of those duplicated rows\n",
    "df.drop_duplicates(subset =\"PTID\", keep = 'first', inplace = True) "
   ]
  },
  {
   "cell_type": "code",
   "execution_count": 6,
   "metadata": {},
   "outputs": [
    {
     "name": "stderr",
     "output_type": "stream",
     "text": [
      "/Applications/anaconda3/lib/python3.7/site-packages/pandas/core/generic.py:6746: SettingWithCopyWarning: \n",
      "A value is trying to be set on a copy of a slice from a DataFrame\n",
      "\n",
      "See the caveats in the documentation: https://pandas.pydata.org/pandas-docs/stable/user_guide/indexing.html#returning-a-view-versus-a-copy\n",
      "  self._update_inplace(new_data)\n"
     ]
    }
   ],
   "source": [
    "df['DX'].replace('Dementia','AD',inplace=True)"
   ]
  },
  {
   "cell_type": "code",
   "execution_count": 7,
   "metadata": {},
   "outputs": [
    {
     "data": {
      "text/plain": [
       "(2269, 32)"
      ]
     },
     "execution_count": 7,
     "metadata": {},
     "output_type": "execute_result"
    }
   ],
   "source": [
    "df.shape"
   ]
  },
  {
   "cell_type": "markdown",
   "metadata": {},
   "source": [
    "Statistical Analysis"
   ]
  },
  {
   "cell_type": "code",
   "execution_count": 8,
   "metadata": {},
   "outputs": [],
   "source": [
    "adnidf = df.dropna()"
   ]
  },
  {
   "cell_type": "code",
   "execution_count": 9,
   "metadata": {},
   "outputs": [
    {
     "data": {
      "text/plain": [
       "((628, 32), (2269, 32))"
      ]
     },
     "execution_count": 9,
     "metadata": {},
     "output_type": "execute_result"
    }
   ],
   "source": [
    "adnidf.shape, df.shape"
   ]
  },
  {
   "cell_type": "code",
   "execution_count": 10,
   "metadata": {},
   "outputs": [
    {
     "data": {
      "text/plain": [
       "PTID                 object\n",
       "AGE                 float64\n",
       "PTGENDER             object\n",
       "PTEDUCAT              int64\n",
       "PTRACCAT             object\n",
       "PTMARRY              object\n",
       "CDRSB               float64\n",
       "ADAS11              float64\n",
       "ADAS13              float64\n",
       "MMSE                float64\n",
       "RAVLT.learning      float64\n",
       "RAVLT.forgetting    float64\n",
       "FAQ                 float64\n",
       "MOCA.bl             float64\n",
       "mPACCdigit.bl       float64\n",
       "mPACCtrailsB.bl     float64\n",
       "EcogPtTotal         float64\n",
       "EcogSPTotal         float64\n",
       "APOE4               float64\n",
       "ABETA                object\n",
       "ABETA.bl             object\n",
       "TAU                  object\n",
       "TAU.bl               object\n",
       "PTAU                 object\n",
       "PTAU.bl              object\n",
       "FDG                 float64\n",
       "AV45                float64\n",
       "Hippocampus.bl      float64\n",
       "WholeBrain.bl       float64\n",
       "Entorhinal.bl       float64\n",
       "MidTemp.bl          float64\n",
       "DX                   object\n",
       "dtype: object"
      ]
     },
     "execution_count": 10,
     "metadata": {},
     "output_type": "execute_result"
    }
   ],
   "source": [
    "adnidf.dtypes"
   ]
  },
  {
   "cell_type": "code",
   "execution_count": 11,
   "metadata": {},
   "outputs": [
    {
     "name": "stderr",
     "output_type": "stream",
     "text": [
      "/Applications/anaconda3/lib/python3.7/site-packages/statsmodels/tools/_testing.py:19: FutureWarning: pandas.util.testing is deprecated. Use the functions in the public API at pandas.testing instead.\n",
      "  import pandas.util.testing as tm\n"
     ]
    }
   ],
   "source": [
    "import seaborn as sns"
   ]
  },
  {
   "cell_type": "markdown",
   "metadata": {},
   "source": [
    "Primary Biomarkers"
   ]
  },
  {
   "cell_type": "code",
   "execution_count": 12,
   "metadata": {
    "scrolled": false
   },
   "outputs": [
    {
     "data": {
      "image/png": "[encoded data removed]",
      "text/plain": [
       "<Figure size 576x432 with 1 Axes>"
      ]
     },
     "metadata": {
      "needs_background": "light"
     },
     "output_type": "display_data"
    }
   ],
   "source": [
    "plt.figure(figsize=(8,6))\n",
    "sns.heatmap(pd.crosstab(adnidf['DX'], adnidf['TAU']),cmap=\"YlGnBu\",cbar=False);"
   ]
  },
  {
   "cell_type": "code",
   "execution_count": 13,
   "metadata": {},
   "outputs": [
    {
     "data": {
      "image/png": "[encoded data removed]",
      "text/plain": [
       "<Figure size 576x432 with 1 Axes>"
      ]
     },
     "metadata": {
      "needs_background": "light"
     },
     "output_type": "display_data"
    }
   ],
   "source": [
    "plt.figure(figsize=(8,6))\n",
    "sns.heatmap(pd.crosstab(adnidf['DX'], adnidf['PTAU']),cbar=False);"
   ]
  },
  {
   "cell_type": "markdown",
   "metadata": {},
   "source": [
    "Primary Risk Factors"
   ]
  },
  {
   "cell_type": "markdown",
   "metadata": {},
   "source": [
    "APOE ε4 is called a risk-factor gene because it increases a person's risk of developing the disease. Having one or two APOE ε4 alleles increases the risk of developing Alzheimer's. About 25 percent of people carry one copy of APOE ɛ4, and 2 to 3 percent carry two copies."
   ]
  },
  {
   "cell_type": "code",
   "execution_count": 14,
   "metadata": {},
   "outputs": [
    {
     "data": {
      "image/png": "[encoded data removed]",
      "text/plain": [
       "<Figure size 576x432 with 1 Axes>"
      ]
     },
     "metadata": {
      "needs_background": "light"
     },
     "output_type": "display_data"
    }
   ],
   "source": [
    "plt.figure(figsize=(8,6))\n",
    "sns.boxplot(x='APOE4',y='AGE', hue='DX', data=adnidf)\n",
    "plt.legend(loc=2);"
   ]
  },
  {
   "cell_type": "markdown",
   "metadata": {},
   "source": [
    "Demographic Info"
   ]
  },
  {
   "cell_type": "code",
   "execution_count": 15,
   "metadata": {},
   "outputs": [
    {
     "data": {
      "text/plain": [
       "(628, 6)"
      ]
     },
     "execution_count": 15,
     "metadata": {},
     "output_type": "execute_result"
    }
   ],
   "source": [
    "df_basic = adnidf[['AGE','PTGENDER','PTEDUCAT','PTRACCAT','PTMARRY','DX']]\n",
    "df_basic.shape"
   ]
  },
  {
   "cell_type": "code",
   "execution_count": 16,
   "metadata": {},
   "outputs": [
    {
     "data": {
      "image/png": "[encoded data removed]",
      "text/plain": [
       "<Figure size 576x432 with 1 Axes>"
      ]
     },
     "metadata": {
      "needs_background": "light"
     },
     "output_type": "display_data"
    }
   ],
   "source": [
    "plt.figure(figsize=(8,6))\n",
    "sns.boxplot(x='PTGENDER',y='AGE', hue='DX', data=adnidf)\n",
    "plt.legend(loc=2);"
   ]
  },
  {
   "cell_type": "code",
   "execution_count": 17,
   "metadata": {},
   "outputs": [
    {
     "data": {
      "image/png": "[encoded data removed]",
      "text/plain": [
       "<Figure size 864x432 with 1 Axes>"
      ]
     },
     "metadata": {
      "needs_background": "light"
     },
     "output_type": "display_data"
    }
   ],
   "source": [
    "plt.figure(figsize=(12,6))\n",
    "sns.boxplot(x='PTRACCAT',y='AGE', hue='DX', data=adnidf)\n",
    "plt.legend(loc=4);"
   ]
  },
  {
   "cell_type": "code",
   "execution_count": 18,
   "metadata": {},
   "outputs": [
    {
     "data": {
      "image/png": "[encoded data removed]",
      "text/plain": [
       "<Figure size 576x432 with 1 Axes>"
      ]
     },
     "metadata": {
      "needs_background": "light"
     },
     "output_type": "display_data"
    }
   ],
   "source": [
    "plt.figure(figsize=(8,6))\n",
    "sns.boxplot(x='PTGENDER',y='PTEDUCAT', hue='DX', palette='Set3',data=adnidf)\n",
    "plt.legend(loc=4);"
   ]
  },
  {
   "cell_type": "code",
   "execution_count": 19,
   "metadata": {},
   "outputs": [
    {
     "data": {
      "image/png": "[encoded data removed]",
      "text/plain": [
       "<Figure size 864x432 with 1 Axes>"
      ]
     },
     "metadata": {
      "needs_background": "light"
     },
     "output_type": "display_data"
    }
   ],
   "source": [
    "plt.figure(figsize=(12,6))\n",
    "sns.boxplot(x='PTRACCAT',y='PTEDUCAT', hue='DX', palette='Set3',data=adnidf)\n",
    "plt.legend(loc=4);"
   ]
  },
  {
   "cell_type": "markdown",
   "metadata": {},
   "source": [
    "Primary MRI Measures\n",
    "(Hippocampus volume, WholeBrain volume, Entorhinal and MidTemp)"
   ]
  },
  {
   "cell_type": "code",
   "execution_count": 20,
   "metadata": {
    "scrolled": false
   },
   "outputs": [
    {
     "data": {
      "image/png": "[encoded data removed]",
      "text/plain": [
       "<Figure size 1080x720 with 4 Axes>"
      ]
     },
     "metadata": {
      "needs_background": "light"
     },
     "output_type": "display_data"
    }
   ],
   "source": [
    "fig, axes = plt.subplots(2,2,figsize=(15,10))\n",
    "axes[0,0].set_title('Hippocampus')\n",
    "sns.boxplot(x='DX',y='Hippocampus.bl',data=adnidf, ax=axes[0,0])\n",
    "axes[0,1].set_title('WholeBrain')\n",
    "sns.boxplot(x='DX',y='WholeBrain.bl',data=adnidf, ax=axes[0,1])\n",
    "axes[1,0].set_title('Entorhinal')\n",
    "sns.boxplot(x='DX',y='Entorhinal.bl',data=adnidf, ax=axes[1,0])\n",
    "axes[1,1].set_title('MidTemp')\n",
    "sns.boxplot(x='DX',y='MidTemp.bl',data=adnidf, ax=axes[1,1]);"
   ]
  },
  {
   "cell_type": "markdown",
   "metadata": {},
   "source": [
    "Cognitive Test Result"
   ]
  },
  {
   "cell_type": "code",
   "execution_count": 21,
   "metadata": {},
   "outputs": [
    {
     "data": {
      "image/png": "[encoded data removed]",
      "text/plain": [
       "<Figure size 1080x720 with 4 Axes>"
      ]
     },
     "metadata": {
      "needs_background": "light"
     },
     "output_type": "display_data"
    }
   ],
   "source": [
    "fig, axes = plt.subplots(2,2,figsize=(15,10))\n",
    "axes[0,0].set_title('CDRSB')\n",
    "sns.countplot(x='CDRSB',hue='DX',data=adnidf,ax=axes[0,0])\n",
    "axes[0,1].set_title('MMSE')\n",
    "sns.countplot(x='MMSE',hue='DX',data=adnidf,ax=axes[0,1])\n",
    "axes[1,0].set_title('ADAS')\n",
    "sns.countplot(x='ADAS11',hue='DX',data=adnidf,ax=axes[1,0])\n",
    "axes[1,1].set_title('MOCA')\n",
    "sns.countplot(x='MOCA.bl',hue='DX',data=adnidf,ax=axes[1,1]);"
   ]
  },
  {
   "cell_type": "markdown",
   "metadata": {},
   "source": [
    "ANOVA\n",
    "Null hypotheses: Groups means are equal (no variation in means of groups)\n",
    "Alternative hypotheses: At least, one group mean is different from other groups"
   ]
  },
  {
   "cell_type": "markdown",
   "metadata": {},
   "source": [
    "Our P-value is smaller than 0.05, so we should reject our null hypothesis. We conclude that 'years of education' affects the outcome. "
   ]
  },
  {
   "cell_type": "code",
   "execution_count": 22,
   "metadata": {},
   "outputs": [],
   "source": [
    "import statsmodels.api as sm\n",
    "from statsmodels.formula.api import ols"
   ]
  },
  {
   "cell_type": "code",
   "execution_count": 23,
   "metadata": {},
   "outputs": [
    {
     "data": {
      "text/html": [
       "<div>\n",
       "<style scoped>\n",
       "    .dataframe tbody tr th:only-of-type {\n",
       "        vertical-align: middle;\n",
       "    }\n",
       "\n",
       "    .dataframe tbody tr th {\n",
       "        vertical-align: top;\n",
       "    }\n",
       "\n",
       "    .dataframe thead th {\n",
       "        text-align: right;\n",
       "    }\n",
       "</style>\n",
       "<table border=\"1\" class=\"dataframe\">\n",
       "  <thead>\n",
       "    <tr style=\"text-align: right;\">\n",
       "      <th></th>\n",
       "      <th>df</th>\n",
       "      <th>sum_sq</th>\n",
       "      <th>mean_sq</th>\n",
       "      <th>F</th>\n",
       "      <th>PR(&gt;F)</th>\n",
       "    </tr>\n",
       "  </thead>\n",
       "  <tbody>\n",
       "    <tr>\n",
       "      <th>DX</th>\n",
       "      <td>2.0</td>\n",
       "      <td>48.339499</td>\n",
       "      <td>24.169750</td>\n",
       "      <td>3.661108</td>\n",
       "      <td>0.026257</td>\n",
       "    </tr>\n",
       "    <tr>\n",
       "      <th>Residual</th>\n",
       "      <td>625.0</td>\n",
       "      <td>4126.098399</td>\n",
       "      <td>6.601757</td>\n",
       "      <td>NaN</td>\n",
       "      <td>NaN</td>\n",
       "    </tr>\n",
       "  </tbody>\n",
       "</table>\n",
       "</div>"
      ],
      "text/plain": [
       "             df       sum_sq    mean_sq         F    PR(>F)\n",
       "DX          2.0    48.339499  24.169750  3.661108  0.026257\n",
       "Residual  625.0  4126.098399   6.601757       NaN       NaN"
      ]
     },
     "execution_count": 23,
     "metadata": {},
     "output_type": "execute_result"
    }
   ],
   "source": [
    "model_edu = ols('PTEDUCAT ~ DX', data=adnidf).fit()\n",
    "anova_table = sm.stats.anova_lm(model_edu)\n",
    "anova_table"
   ]
  },
  {
   "cell_type": "code",
   "execution_count": 24,
   "metadata": {},
   "outputs": [
    {
     "data": {
      "text/html": [
       "<div>\n",
       "<style scoped>\n",
       "    .dataframe tbody tr th:only-of-type {\n",
       "        vertical-align: middle;\n",
       "    }\n",
       "\n",
       "    .dataframe tbody tr th {\n",
       "        vertical-align: top;\n",
       "    }\n",
       "\n",
       "    .dataframe thead th {\n",
       "        text-align: right;\n",
       "    }\n",
       "</style>\n",
       "<table border=\"1\" class=\"dataframe\">\n",
       "  <thead>\n",
       "    <tr style=\"text-align: right;\">\n",
       "      <th></th>\n",
       "      <th>df</th>\n",
       "      <th>sum_sq</th>\n",
       "      <th>mean_sq</th>\n",
       "      <th>F</th>\n",
       "      <th>PR(&gt;F)</th>\n",
       "    </tr>\n",
       "  </thead>\n",
       "  <tbody>\n",
       "    <tr>\n",
       "      <th>DX</th>\n",
       "      <td>2.0</td>\n",
       "      <td>443.277611</td>\n",
       "      <td>221.638806</td>\n",
       "      <td>4.564953</td>\n",
       "      <td>0.01076</td>\n",
       "    </tr>\n",
       "    <tr>\n",
       "      <th>Residual</th>\n",
       "      <td>625.0</td>\n",
       "      <td>30345.164682</td>\n",
       "      <td>48.552263</td>\n",
       "      <td>NaN</td>\n",
       "      <td>NaN</td>\n",
       "    </tr>\n",
       "  </tbody>\n",
       "</table>\n",
       "</div>"
      ],
      "text/plain": [
       "             df        sum_sq     mean_sq         F   PR(>F)\n",
       "DX          2.0    443.277611  221.638806  4.564953  0.01076\n",
       "Residual  625.0  30345.164682   48.552263       NaN      NaN"
      ]
     },
     "execution_count": 24,
     "metadata": {},
     "output_type": "execute_result"
    }
   ],
   "source": [
    "model_age = ols('AGE ~ DX', data=adnidf).fit()\n",
    "anova_table = sm.stats.anova_lm(model_age, type=2)\n",
    "anova_table"
   ]
  },
  {
   "cell_type": "code",
   "execution_count": 25,
   "metadata": {},
   "outputs": [
    {
     "data": {
      "text/html": [
       "<div>\n",
       "<style scoped>\n",
       "    .dataframe tbody tr th:only-of-type {\n",
       "        vertical-align: middle;\n",
       "    }\n",
       "\n",
       "    .dataframe tbody tr th {\n",
       "        vertical-align: top;\n",
       "    }\n",
       "\n",
       "    .dataframe thead th {\n",
       "        text-align: right;\n",
       "    }\n",
       "</style>\n",
       "<table border=\"1\" class=\"dataframe\">\n",
       "  <thead>\n",
       "    <tr style=\"text-align: right;\">\n",
       "      <th></th>\n",
       "      <th>df</th>\n",
       "      <th>sum_sq</th>\n",
       "      <th>mean_sq</th>\n",
       "      <th>F</th>\n",
       "      <th>PR(&gt;F)</th>\n",
       "    </tr>\n",
       "  </thead>\n",
       "  <tbody>\n",
       "    <tr>\n",
       "      <th>DX</th>\n",
       "      <td>2.0</td>\n",
       "      <td>22.906496</td>\n",
       "      <td>11.453248</td>\n",
       "      <td>28.060872</td>\n",
       "      <td>2.136844e-12</td>\n",
       "    </tr>\n",
       "    <tr>\n",
       "      <th>Residual</th>\n",
       "      <td>625.0</td>\n",
       "      <td>255.098281</td>\n",
       "      <td>0.408157</td>\n",
       "      <td>NaN</td>\n",
       "      <td>NaN</td>\n",
       "    </tr>\n",
       "  </tbody>\n",
       "</table>\n",
       "</div>"
      ],
      "text/plain": [
       "             df      sum_sq    mean_sq          F        PR(>F)\n",
       "DX          2.0   22.906496  11.453248  28.060872  2.136844e-12\n",
       "Residual  625.0  255.098281   0.408157        NaN           NaN"
      ]
     },
     "execution_count": 25,
     "metadata": {},
     "output_type": "execute_result"
    }
   ],
   "source": [
    "model_APOE = ols('APOE4 ~ DX', data=adnidf).fit()\n",
    "anova_table = sm.stats.anova_lm(model_APOE, type=2)\n",
    "anova_table"
   ]
  },
  {
   "cell_type": "code",
   "execution_count": 26,
   "metadata": {},
   "outputs": [
    {
     "data": {
      "text/html": [
       "<div>\n",
       "<style scoped>\n",
       "    .dataframe tbody tr th:only-of-type {\n",
       "        vertical-align: middle;\n",
       "    }\n",
       "\n",
       "    .dataframe tbody tr th {\n",
       "        vertical-align: top;\n",
       "    }\n",
       "\n",
       "    .dataframe thead th {\n",
       "        text-align: right;\n",
       "    }\n",
       "</style>\n",
       "<table border=\"1\" class=\"dataframe\">\n",
       "  <thead>\n",
       "    <tr style=\"text-align: right;\">\n",
       "      <th></th>\n",
       "      <th>df</th>\n",
       "      <th>sum_sq</th>\n",
       "      <th>mean_sq</th>\n",
       "      <th>F</th>\n",
       "      <th>PR(&gt;F)</th>\n",
       "    </tr>\n",
       "  </thead>\n",
       "  <tbody>\n",
       "    <tr>\n",
       "      <th>DX</th>\n",
       "      <td>2.0</td>\n",
       "      <td>2126.009958</td>\n",
       "      <td>1063.004979</td>\n",
       "      <td>429.72688</td>\n",
       "      <td>3.962048e-118</td>\n",
       "    </tr>\n",
       "    <tr>\n",
       "      <th>Residual</th>\n",
       "      <td>625.0</td>\n",
       "      <td>1546.047367</td>\n",
       "      <td>2.473676</td>\n",
       "      <td>NaN</td>\n",
       "      <td>NaN</td>\n",
       "    </tr>\n",
       "  </tbody>\n",
       "</table>\n",
       "</div>"
      ],
      "text/plain": [
       "             df       sum_sq      mean_sq          F         PR(>F)\n",
       "DX          2.0  2126.009958  1063.004979  429.72688  3.962048e-118\n",
       "Residual  625.0  1546.047367     2.473676        NaN            NaN"
      ]
     },
     "execution_count": 26,
     "metadata": {},
     "output_type": "execute_result"
    }
   ],
   "source": [
    "model_MMSE = ols('MMSE ~ DX', data=adnidf).fit()\n",
    "anova_table = sm.stats.anova_lm(model_MMSE, type=2)\n",
    "anova_table"
   ]
  },
  {
   "cell_type": "markdown",
   "metadata": {},
   "source": [
    "Predictive Modeling"
   ]
  },
  {
   "cell_type": "code",
   "execution_count": 27,
   "metadata": {},
   "outputs": [
    {
     "data": {
      "text/plain": [
       "(1219, 32)"
      ]
     },
     "execution_count": 27,
     "metadata": {},
     "output_type": "execute_result"
    }
   ],
   "source": [
    "# build up a data subset with 'CN' and 'AD'\n",
    "cond1 = (df['DX']=='CN') | (df['DX']=='AD')\n",
    "df_CA = df[cond1]\n",
    "df_CA.shape"
   ]
  },
  {
   "cell_type": "code",
   "execution_count": 28,
   "metadata": {},
   "outputs": [
    {
     "data": {
      "text/plain": [
       "PTID                  0\n",
       "AGE                   1\n",
       "PTGENDER              0\n",
       "PTEDUCAT              0\n",
       "PTRACCAT              0\n",
       "PTMARRY               0\n",
       "CDRSB                 0\n",
       "ADAS11                4\n",
       "ADAS13               12\n",
       "MMSE                  0\n",
       "RAVLT.learning        7\n",
       "RAVLT.forgetting      7\n",
       "FAQ                   7\n",
       "MOCA.bl             441\n",
       "mPACCdigit.bl         0\n",
       "mPACCtrailsB.bl       0\n",
       "EcogPtTotal         428\n",
       "EcogSPTotal         435\n",
       "APOE4                56\n",
       "ABETA               621\n",
       "ABETA.bl            621\n",
       "TAU                 621\n",
       "TAU.bl              621\n",
       "PTAU                621\n",
       "PTAU.bl             621\n",
       "FDG                 535\n",
       "AV45                647\n",
       "Hippocampus.bl      469\n",
       "WholeBrain.bl       383\n",
       "Entorhinal.bl       492\n",
       "MidTemp.bl          492\n",
       "DX                    0\n",
       "dtype: int64"
      ]
     },
     "execution_count": 28,
     "metadata": {},
     "output_type": "execute_result"
    }
   ],
   "source": [
    "df_CA.isnull().sum()"
   ]
  },
  {
   "cell_type": "code",
   "execution_count": 29,
   "metadata": {},
   "outputs": [
    {
     "data": {
      "text/plain": [
       "(1847, 32)"
      ]
     },
     "execution_count": 29,
     "metadata": {},
     "output_type": "execute_result"
    }
   ],
   "source": [
    "# build up a data subset with 'CN' and 'MCI'\n",
    "cond2 = (df['DX']=='CN') | (df['DX']=='MCI')\n",
    "df_CM = df[cond2]\n",
    "df_CM.shape"
   ]
  },
  {
   "cell_type": "code",
   "execution_count": 30,
   "metadata": {},
   "outputs": [
    {
     "data": {
      "text/plain": [
       "(1428, 32)"
      ]
     },
     "execution_count": 30,
     "metadata": {},
     "output_type": "execute_result"
    }
   ],
   "source": [
    "# build up a data subset with 'MCI' and 'AD'\n",
    "cond3 = (df['DX']=='MCI') | (df['DX']=='AD')\n",
    "df_MA = df[cond3]\n",
    "df_MA.shape"
   ]
  },
  {
   "cell_type": "code",
   "execution_count": 31,
   "metadata": {},
   "outputs": [
    {
     "name": "stderr",
     "output_type": "stream",
     "text": [
      "/Applications/anaconda3/lib/python3.7/site-packages/ipykernel_launcher.py:2: SettingWithCopyWarning: \n",
      "A value is trying to be set on a copy of a slice from a DataFrame.\n",
      "Try using .loc[row_indexer,col_indexer] = value instead\n",
      "\n",
      "See the caveats in the documentation: https://pandas.pydata.org/pandas-docs/stable/user_guide/indexing.html#returning-a-view-versus-a-copy\n",
      "  \n"
     ]
    }
   ],
   "source": [
    "df_CA['label_CA'] = pd.Series(np.where(df_CA['DX'].values == 'CN', 0, 1),\n",
    "          df_CA.index)"
   ]
  },
  {
   "cell_type": "code",
   "execution_count": 32,
   "metadata": {},
   "outputs": [
    {
     "data": {
      "text/plain": [
       "0    819\n",
       "1    400\n",
       "Name: label_CA, dtype: int64"
      ]
     },
     "execution_count": 32,
     "metadata": {},
     "output_type": "execute_result"
    }
   ],
   "source": [
    "df_CA['label_CA'].value_counts()"
   ]
  },
  {
   "cell_type": "code",
   "execution_count": 33,
   "metadata": {},
   "outputs": [
    {
     "name": "stderr",
     "output_type": "stream",
     "text": [
      "/Applications/anaconda3/lib/python3.7/site-packages/ipykernel_launcher.py:2: SettingWithCopyWarning: \n",
      "A value is trying to be set on a copy of a slice from a DataFrame.\n",
      "Try using .loc[row_indexer,col_indexer] = value instead\n",
      "\n",
      "See the caveats in the documentation: https://pandas.pydata.org/pandas-docs/stable/user_guide/indexing.html#returning-a-view-versus-a-copy\n",
      "  \n"
     ]
    }
   ],
   "source": [
    "df_CM['label_CM'] = pd.Series(np.where(df_CM['DX'].values == 'CN', 0, 1),\n",
    "          df_CM.index)"
   ]
  },
  {
   "cell_type": "code",
   "execution_count": 34,
   "metadata": {},
   "outputs": [
    {
     "data": {
      "text/plain": [
       "1    1028\n",
       "0     819\n",
       "Name: label_CM, dtype: int64"
      ]
     },
     "execution_count": 34,
     "metadata": {},
     "output_type": "execute_result"
    }
   ],
   "source": [
    "df_CM['label_CM'].value_counts()"
   ]
  },
  {
   "cell_type": "code",
   "execution_count": 35,
   "metadata": {},
   "outputs": [
    {
     "name": "stderr",
     "output_type": "stream",
     "text": [
      "/Applications/anaconda3/lib/python3.7/site-packages/ipykernel_launcher.py:2: SettingWithCopyWarning: \n",
      "A value is trying to be set on a copy of a slice from a DataFrame.\n",
      "Try using .loc[row_indexer,col_indexer] = value instead\n",
      "\n",
      "See the caveats in the documentation: https://pandas.pydata.org/pandas-docs/stable/user_guide/indexing.html#returning-a-view-versus-a-copy\n",
      "  \n"
     ]
    }
   ],
   "source": [
    "df_MA['label_MA'] = pd.Series(np.where(df_MA['DX'].values == 'MCI', 0, 1),\n",
    "          df_MA.index)"
   ]
  },
  {
   "cell_type": "code",
   "execution_count": 36,
   "metadata": {},
   "outputs": [
    {
     "data": {
      "text/plain": [
       "0    1028\n",
       "1     400\n",
       "Name: label_MA, dtype: int64"
      ]
     },
     "execution_count": 36,
     "metadata": {},
     "output_type": "execute_result"
    }
   ],
   "source": [
    "df_MA['label_MA'].value_counts()"
   ]
  },
  {
   "cell_type": "code",
   "execution_count": 37,
   "metadata": {},
   "outputs": [
    {
     "name": "stdout",
     "output_type": "stream",
     "text": [
      "Requirement already up-to-date: scikit-learn in /Applications/anaconda3/lib/python3.7/site-packages (0.23.1)\n",
      "Requirement already satisfied, skipping upgrade: threadpoolctl>=2.0.0 in /Applications/anaconda3/lib/python3.7/site-packages (from scikit-learn) (2.1.0)\n",
      "Requirement already satisfied, skipping upgrade: joblib>=0.11 in /Applications/anaconda3/lib/python3.7/site-packages (from scikit-learn) (0.13.2)\n",
      "Requirement already satisfied, skipping upgrade: scipy>=0.19.1 in /Applications/anaconda3/lib/python3.7/site-packages (from scikit-learn) (1.5.0)\n",
      "Requirement already satisfied, skipping upgrade: numpy>=1.13.3 in /Applications/anaconda3/lib/python3.7/site-packages (from scikit-learn) (1.19.0)\n"
     ]
    }
   ],
   "source": [
    "!pip install -U scikit-learn"
   ]
  },
  {
   "cell_type": "code",
   "execution_count": 38,
   "metadata": {},
   "outputs": [
    {
     "name": "stdout",
     "output_type": "stream",
     "text": [
      "Requirement already satisfied: missingpy in /Applications/anaconda3/lib/python3.7/site-packages (0.2.0)\r\n"
     ]
    }
   ],
   "source": [
    "! pip install missingpy"
   ]
  },
  {
   "cell_type": "code",
   "execution_count": 39,
   "metadata": {},
   "outputs": [
    {
     "name": "stderr",
     "output_type": "stream",
     "text": [
      "/Applications/anaconda3/lib/python3.7/site-packages/sklearn/utils/deprecation.py:143: FutureWarning: The sklearn.neighbors.base module is  deprecated in version 0.22 and will be removed in version 0.24. The corresponding classes / functions should instead be imported from sklearn.neighbors. Anything that cannot be imported from sklearn.neighbors is now part of the private API.\n",
      "  warnings.warn(message, FutureWarning)\n"
     ]
    }
   ],
   "source": [
    "from sklearn.model_selection import train_test_split\n",
    "from sklearn.model_selection import cross_val_score\n",
    "from missingpy import KNNImputer\n",
    "from sklearn.impute import SimpleImputer\n",
    "import category_encoders as ce\n",
    "from sklearn.pipeline import make_pipeline\n",
    "from sklearn.tree import DecisionTreeClassifier\n",
    "from sklearn.ensemble import RandomForestClassifier\n",
    "from xgboost import XGBClassifier\n",
    "from sklearn.metrics import accuracy_score, classification_report, confusion_matrix,roc_auc_score, roc_curve"
   ]
  },
  {
   "cell_type": "markdown",
   "metadata": {},
   "source": [
    "Data subset with 'CN' and 'AD'"
   ]
  },
  {
   "cell_type": "code",
   "execution_count": 40,
   "metadata": {},
   "outputs": [],
   "source": [
    "train, test = train_test_split(df_CA, train_size=0.9, test_size=0.1, stratify=df_CA['label_CA'], random_state=42)"
   ]
  },
  {
   "cell_type": "code",
   "execution_count": 41,
   "metadata": {},
   "outputs": [
    {
     "data": {
      "text/plain": [
       "((1097, 13), (1097,), (122, 13), (122,))"
      ]
     },
     "execution_count": 41,
     "metadata": {},
     "output_type": "execute_result"
    }
   ],
   "source": [
    "target = 'label_CA'\n",
    "features_CA = ['AGE','PTGENDER','PTEDUCAT','PTRACCAT','PTMARRY','APOE4','ABETA','TAU','PTAU',\n",
    "            'Hippocampus.bl','WholeBrain.bl','Entorhinal.bl','MidTemp.bl']\n",
    "X_train = train[features_CA]\n",
    "y_train = train[target]\n",
    "X_test = test[features_CA]\n",
    "y_test = test[target]\n",
    "X_train.shape, y_train.shape, X_test.shape, y_test.shape"
   ]
  },
  {
   "cell_type": "code",
   "execution_count": 42,
   "metadata": {},
   "outputs": [
    {
     "data": {
      "text/plain": [
       "AGE               float64\n",
       "PTGENDER           object\n",
       "PTEDUCAT            int64\n",
       "PTRACCAT           object\n",
       "PTMARRY            object\n",
       "APOE4             float64\n",
       "ABETA              object\n",
       "TAU                object\n",
       "PTAU               object\n",
       "Hippocampus.bl    float64\n",
       "WholeBrain.bl     float64\n",
       "Entorhinal.bl     float64\n",
       "MidTemp.bl        float64\n",
       "dtype: object"
      ]
     },
     "execution_count": 42,
     "metadata": {},
     "output_type": "execute_result"
    }
   ],
   "source": [
    "X_train.dtypes"
   ]
  },
  {
   "cell_type": "code",
   "execution_count": 43,
   "metadata": {},
   "outputs": [
    {
     "data": {
      "text/plain": [
       "0    0\n",
       "dtype: int64"
      ]
     },
     "execution_count": 43,
     "metadata": {},
     "output_type": "execute_result"
    }
   ],
   "source": [
    "#Identify the baseline\n",
    "majority_class = df_CA[target].mode()\n",
    "majority_class"
   ]
  },
  {
   "cell_type": "code",
   "execution_count": 44,
   "metadata": {},
   "outputs": [
    {
     "data": {
      "text/plain": [
       "0.671862182116489"
      ]
     },
     "execution_count": 44,
     "metadata": {},
     "output_type": "execute_result"
    }
   ],
   "source": [
    "df_CA_bl = [majority_class] * len(df_CA[target])\n",
    "accuracy_score(df_CA[target], df_CA_bl)"
   ]
  },
  {
   "cell_type": "markdown",
   "metadata": {},
   "source": [
    "So if we are doing nothing, just guess that the result is '0'(CN), then our accuracy rate is 67%. "
   ]
  },
  {
   "cell_type": "code",
   "execution_count": 45,
   "metadata": {},
   "outputs": [],
   "source": [
    "pipeline_DT = make_pipeline(\n",
    "    ce.ordinal.OrdinalEncoder(),\n",
    "    SimpleImputer(),\n",
    "    DecisionTreeClassifier(random_state = 42)\n",
    ")\n",
    "k=5\n",
    "scores_dt = cross_val_score(pipeline_DT, X_train, y_train, cv=k,\n",
    "                         scoring = 'accuracy')"
   ]
  },
  {
   "cell_type": "code",
   "execution_count": 46,
   "metadata": {},
   "outputs": [],
   "source": [
    "pipeline_RF = make_pipeline(\n",
    "    ce.ordinal.OrdinalEncoder(),\n",
    "    SimpleImputer(),\n",
    "    RandomForestClassifier(n_estimators=100,random_state=42)\n",
    ")\n",
    "k=5\n",
    "scores_rf = cross_val_score(pipeline_RF, X_train, y_train, cv=k,scoring = 'accuracy')"
   ]
  },
  {
   "cell_type": "code",
   "execution_count": 94,
   "metadata": {},
   "outputs": [],
   "source": [
    "pipeline_XG = make_pipeline(\n",
    "    ce.ordinal.OrdinalEncoder(),\n",
    "    SimpleImputer(),\n",
    "    XGBClassifier(n_estimators=100, random_state=42, learning_rate=0.5)\n",
    ")\n",
    "k=5\n",
    "scores_xg = cross_val_score(pipeline_XG, X_train, y_train, cv=k,scoring = 'accuracy')"
   ]
  },
  {
   "cell_type": "code",
   "execution_count": 95,
   "metadata": {},
   "outputs": [
    {
     "name": "stdout",
     "output_type": "stream",
     "text": [
      "Decision Tree model accuracy score for 5 folds:  [0.75       0.73636364 0.71689498 0.77625571 0.78538813]\n",
      "Random Forest model accuracy score for 5 folds:  [0.67867868 0.72372372 0.6686747  0.72590361 0.67168675]\n",
      "XGBoost model accuracy score for 5 folds:  [0.81363636 0.78181818 0.78082192 0.85388128 0.83561644]\n"
     ]
    }
   ],
   "source": [
    "print(f'Decision Tree model accuracy score for {k} folds: ', scores_dt)\n",
    "print(f'Random Forest model accuracy score for {k} folds: ', scores_rf)\n",
    "print(f'XGBoost model accuracy score for {k} folds: ', scores_xg)"
   ]
  },
  {
   "cell_type": "code",
   "execution_count": 96,
   "metadata": {},
   "outputs": [
    {
     "name": "stdout",
     "output_type": "stream",
     "text": [
      "0.7529804898298048 0.6937334925286732 0.8131548360315485\n"
     ]
    }
   ],
   "source": [
    "print(scores_dt.mean(),scores_rf.mean(),scores_xg.mean())"
   ]
  },
  {
   "cell_type": "code",
   "execution_count": 50,
   "metadata": {},
   "outputs": [
    {
     "name": "stdout",
     "output_type": "stream",
     "text": [
      "Model Hyperparameters:\n",
      "RandomForestClassifier(random_state=42)\n"
     ]
    }
   ],
   "source": [
    "# check model hyperparameters\n",
    "print('Model Hyperparameters:')\n",
    "print(pipeline_RF.named_steps['randomforestclassifier'])"
   ]
  },
  {
   "cell_type": "code",
   "execution_count": 51,
   "metadata": {},
   "outputs": [],
   "source": [
    "from scipy.stats import randint, uniform\n",
    "param_distributions = {\n",
    "    'randomforestclassifier__bootstrap': ['Ture','False'],\n",
    "    'randomforestclassifier__n_estimators': [50,100,150,200],\n",
    "    'randomforestclassifier__min_samples_leaf': [1,2,4],\n",
    "    'randomforestclassifier__max_features': ['auto','sqrt'],\n",
    "    'randomforestclassifier__min_samples_split':[2,5,10]\n",
    "}"
   ]
  },
  {
   "cell_type": "code",
   "execution_count": 52,
   "metadata": {},
   "outputs": [
    {
     "name": "stdout",
     "output_type": "stream",
     "text": [
      "Fitting 5 folds for each of 7 candidates, totalling 35 fits\n",
      "[CV] randomforestclassifier__n_estimators=150, randomforestclassifier__min_samples_split=5, randomforestclassifier__min_samples_leaf=2, randomforestclassifier__max_features=auto, randomforestclassifier__bootstrap=Ture \n"
     ]
    },
    {
     "name": "stderr",
     "output_type": "stream",
     "text": [
      "[Parallel(n_jobs=1)]: Using backend SequentialBackend with 1 concurrent workers.\n"
     ]
    },
    {
     "name": "stdout",
     "output_type": "stream",
     "text": [
      "[CV]  randomforestclassifier__n_estimators=150, randomforestclassifier__min_samples_split=5, randomforestclassifier__min_samples_leaf=2, randomforestclassifier__max_features=auto, randomforestclassifier__bootstrap=Ture, score=(train=0.960, test=0.818), total=   0.4s\n",
      "[CV] randomforestclassifier__n_estimators=150, randomforestclassifier__min_samples_split=5, randomforestclassifier__min_samples_leaf=2, randomforestclassifier__max_features=auto, randomforestclassifier__bootstrap=Ture \n"
     ]
    },
    {
     "name": "stderr",
     "output_type": "stream",
     "text": [
      "[Parallel(n_jobs=1)]: Done   1 out of   1 | elapsed:    0.5s remaining:    0.0s\n"
     ]
    },
    {
     "name": "stdout",
     "output_type": "stream",
     "text": [
      "[CV]  randomforestclassifier__n_estimators=150, randomforestclassifier__min_samples_split=5, randomforestclassifier__min_samples_leaf=2, randomforestclassifier__max_features=auto, randomforestclassifier__bootstrap=Ture, score=(train=0.968, test=0.814), total=   0.4s\n",
      "[CV] randomforestclassifier__n_estimators=150, randomforestclassifier__min_samples_split=5, randomforestclassifier__min_samples_leaf=2, randomforestclassifier__max_features=auto, randomforestclassifier__bootstrap=Ture \n"
     ]
    },
    {
     "name": "stderr",
     "output_type": "stream",
     "text": [
      "[Parallel(n_jobs=1)]: Done   2 out of   2 | elapsed:    0.9s remaining:    0.0s\n"
     ]
    },
    {
     "name": "stdout",
     "output_type": "stream",
     "text": [
      "[CV]  randomforestclassifier__n_estimators=150, randomforestclassifier__min_samples_split=5, randomforestclassifier__min_samples_leaf=2, randomforestclassifier__max_features=auto, randomforestclassifier__bootstrap=Ture, score=(train=0.959, test=0.795), total=   0.6s\n",
      "[CV] randomforestclassifier__n_estimators=150, randomforestclassifier__min_samples_split=5, randomforestclassifier__min_samples_leaf=2, randomforestclassifier__max_features=auto, randomforestclassifier__bootstrap=Ture \n"
     ]
    },
    {
     "name": "stderr",
     "output_type": "stream",
     "text": [
      "[Parallel(n_jobs=1)]: Done   3 out of   3 | elapsed:    1.5s remaining:    0.0s\n"
     ]
    },
    {
     "name": "stdout",
     "output_type": "stream",
     "text": [
      "[CV]  randomforestclassifier__n_estimators=150, randomforestclassifier__min_samples_split=5, randomforestclassifier__min_samples_leaf=2, randomforestclassifier__max_features=auto, randomforestclassifier__bootstrap=Ture, score=(train=0.964, test=0.858), total=   0.4s\n",
      "[CV] randomforestclassifier__n_estimators=150, randomforestclassifier__min_samples_split=5, randomforestclassifier__min_samples_leaf=2, randomforestclassifier__max_features=auto, randomforestclassifier__bootstrap=Ture \n"
     ]
    },
    {
     "name": "stderr",
     "output_type": "stream",
     "text": [
      "[Parallel(n_jobs=1)]: Done   4 out of   4 | elapsed:    1.9s remaining:    0.0s\n"
     ]
    },
    {
     "name": "stdout",
     "output_type": "stream",
     "text": [
      "[CV]  randomforestclassifier__n_estimators=150, randomforestclassifier__min_samples_split=5, randomforestclassifier__min_samples_leaf=2, randomforestclassifier__max_features=auto, randomforestclassifier__bootstrap=Ture, score=(train=0.968, test=0.863), total=   0.4s\n",
      "[CV] randomforestclassifier__n_estimators=100, randomforestclassifier__min_samples_split=2, randomforestclassifier__min_samples_leaf=1, randomforestclassifier__max_features=sqrt, randomforestclassifier__bootstrap=Ture \n"
     ]
    },
    {
     "name": "stderr",
     "output_type": "stream",
     "text": [
      "[Parallel(n_jobs=1)]: Done   5 out of   5 | elapsed:    2.3s remaining:    0.0s\n"
     ]
    },
    {
     "name": "stdout",
     "output_type": "stream",
     "text": [
      "[CV]  randomforestclassifier__n_estimators=100, randomforestclassifier__min_samples_split=2, randomforestclassifier__min_samples_leaf=1, randomforestclassifier__max_features=sqrt, randomforestclassifier__bootstrap=Ture, score=(train=1.000, test=0.809), total=   0.3s\n",
      "[CV] randomforestclassifier__n_estimators=100, randomforestclassifier__min_samples_split=2, randomforestclassifier__min_samples_leaf=1, randomforestclassifier__max_features=sqrt, randomforestclassifier__bootstrap=Ture \n"
     ]
    },
    {
     "name": "stderr",
     "output_type": "stream",
     "text": [
      "[Parallel(n_jobs=1)]: Done   6 out of   6 | elapsed:    2.6s remaining:    0.0s\n"
     ]
    },
    {
     "name": "stdout",
     "output_type": "stream",
     "text": [
      "[CV]  randomforestclassifier__n_estimators=100, randomforestclassifier__min_samples_split=2, randomforestclassifier__min_samples_leaf=1, randomforestclassifier__max_features=sqrt, randomforestclassifier__bootstrap=Ture, score=(train=1.000, test=0.791), total=   0.3s\n",
      "[CV] randomforestclassifier__n_estimators=100, randomforestclassifier__min_samples_split=2, randomforestclassifier__min_samples_leaf=1, randomforestclassifier__max_features=sqrt, randomforestclassifier__bootstrap=Ture \n"
     ]
    },
    {
     "name": "stderr",
     "output_type": "stream",
     "text": [
      "[Parallel(n_jobs=1)]: Done   7 out of   7 | elapsed:    2.9s remaining:    0.0s\n"
     ]
    },
    {
     "name": "stdout",
     "output_type": "stream",
     "text": [
      "[CV]  randomforestclassifier__n_estimators=100, randomforestclassifier__min_samples_split=2, randomforestclassifier__min_samples_leaf=1, randomforestclassifier__max_features=sqrt, randomforestclassifier__bootstrap=Ture, score=(train=1.000, test=0.808), total=   0.3s\n",
      "[CV] randomforestclassifier__n_estimators=100, randomforestclassifier__min_samples_split=2, randomforestclassifier__min_samples_leaf=1, randomforestclassifier__max_features=sqrt, randomforestclassifier__bootstrap=Ture \n"
     ]
    },
    {
     "name": "stderr",
     "output_type": "stream",
     "text": [
      "[Parallel(n_jobs=1)]: Done   8 out of   8 | elapsed:    3.3s remaining:    0.0s\n"
     ]
    },
    {
     "name": "stdout",
     "output_type": "stream",
     "text": [
      "[CV]  randomforestclassifier__n_estimators=100, randomforestclassifier__min_samples_split=2, randomforestclassifier__min_samples_leaf=1, randomforestclassifier__max_features=sqrt, randomforestclassifier__bootstrap=Ture, score=(train=1.000, test=0.881), total=   0.3s\n",
      "[CV] randomforestclassifier__n_estimators=100, randomforestclassifier__min_samples_split=2, randomforestclassifier__min_samples_leaf=1, randomforestclassifier__max_features=sqrt, randomforestclassifier__bootstrap=Ture \n"
     ]
    },
    {
     "name": "stderr",
     "output_type": "stream",
     "text": [
      "[Parallel(n_jobs=1)]: Done   9 out of   9 | elapsed:    3.6s remaining:    0.0s\n"
     ]
    },
    {
     "name": "stdout",
     "output_type": "stream",
     "text": [
      "[CV]  randomforestclassifier__n_estimators=100, randomforestclassifier__min_samples_split=2, randomforestclassifier__min_samples_leaf=1, randomforestclassifier__max_features=sqrt, randomforestclassifier__bootstrap=Ture, score=(train=1.000, test=0.858), total=   0.3s\n",
      "[CV] randomforestclassifier__n_estimators=150, randomforestclassifier__min_samples_split=10, randomforestclassifier__min_samples_leaf=2, randomforestclassifier__max_features=auto, randomforestclassifier__bootstrap=Ture \n",
      "[CV]  randomforestclassifier__n_estimators=150, randomforestclassifier__min_samples_split=10, randomforestclassifier__min_samples_leaf=2, randomforestclassifier__max_features=auto, randomforestclassifier__bootstrap=Ture, score=(train=0.944, test=0.814), total=   0.4s\n",
      "[CV] randomforestclassifier__n_estimators=150, randomforestclassifier__min_samples_split=10, randomforestclassifier__min_samples_leaf=2, randomforestclassifier__max_features=auto, randomforestclassifier__bootstrap=Ture \n",
      "[CV]  randomforestclassifier__n_estimators=150, randomforestclassifier__min_samples_split=10, randomforestclassifier__min_samples_leaf=2, randomforestclassifier__max_features=auto, randomforestclassifier__bootstrap=Ture, score=(train=0.940, test=0.795), total=   0.3s\n",
      "[CV] randomforestclassifier__n_estimators=150, randomforestclassifier__min_samples_split=10, randomforestclassifier__min_samples_leaf=2, randomforestclassifier__max_features=auto, randomforestclassifier__bootstrap=Ture \n",
      "[CV]  randomforestclassifier__n_estimators=150, randomforestclassifier__min_samples_split=10, randomforestclassifier__min_samples_leaf=2, randomforestclassifier__max_features=auto, randomforestclassifier__bootstrap=Ture, score=(train=0.946, test=0.790), total=   0.3s\n",
      "[CV] randomforestclassifier__n_estimators=150, randomforestclassifier__min_samples_split=10, randomforestclassifier__min_samples_leaf=2, randomforestclassifier__max_features=auto, randomforestclassifier__bootstrap=Ture \n",
      "[CV]  randomforestclassifier__n_estimators=150, randomforestclassifier__min_samples_split=10, randomforestclassifier__min_samples_leaf=2, randomforestclassifier__max_features=auto, randomforestclassifier__bootstrap=Ture, score=(train=0.942, test=0.849), total=   0.3s\n",
      "[CV] randomforestclassifier__n_estimators=150, randomforestclassifier__min_samples_split=10, randomforestclassifier__min_samples_leaf=2, randomforestclassifier__max_features=auto, randomforestclassifier__bootstrap=Ture \n",
      "[CV]  randomforestclassifier__n_estimators=150, randomforestclassifier__min_samples_split=10, randomforestclassifier__min_samples_leaf=2, randomforestclassifier__max_features=auto, randomforestclassifier__bootstrap=Ture, score=(train=0.946, test=0.858), total=   0.3s\n",
      "[CV] randomforestclassifier__n_estimators=200, randomforestclassifier__min_samples_split=2, randomforestclassifier__min_samples_leaf=4, randomforestclassifier__max_features=sqrt, randomforestclassifier__bootstrap=Ture \n",
      "[CV]  randomforestclassifier__n_estimators=200, randomforestclassifier__min_samples_split=2, randomforestclassifier__min_samples_leaf=4, randomforestclassifier__max_features=sqrt, randomforestclassifier__bootstrap=Ture, score=(train=0.928, test=0.809), total=   0.5s\n",
      "[CV] randomforestclassifier__n_estimators=200, randomforestclassifier__min_samples_split=2, randomforestclassifier__min_samples_leaf=4, randomforestclassifier__max_features=sqrt, randomforestclassifier__bootstrap=Ture \n",
      "[CV]  randomforestclassifier__n_estimators=200, randomforestclassifier__min_samples_split=2, randomforestclassifier__min_samples_leaf=4, randomforestclassifier__max_features=sqrt, randomforestclassifier__bootstrap=Ture, score=(train=0.922, test=0.795), total=   0.5s\n",
      "[CV] randomforestclassifier__n_estimators=200, randomforestclassifier__min_samples_split=2, randomforestclassifier__min_samples_leaf=4, randomforestclassifier__max_features=sqrt, randomforestclassifier__bootstrap=Ture \n",
      "[CV]  randomforestclassifier__n_estimators=200, randomforestclassifier__min_samples_split=2, randomforestclassifier__min_samples_leaf=4, randomforestclassifier__max_features=sqrt, randomforestclassifier__bootstrap=Ture, score=(train=0.921, test=0.785), total=   0.4s\n",
      "[CV] randomforestclassifier__n_estimators=200, randomforestclassifier__min_samples_split=2, randomforestclassifier__min_samples_leaf=4, randomforestclassifier__max_features=sqrt, randomforestclassifier__bootstrap=Ture \n",
      "[CV]  randomforestclassifier__n_estimators=200, randomforestclassifier__min_samples_split=2, randomforestclassifier__min_samples_leaf=4, randomforestclassifier__max_features=sqrt, randomforestclassifier__bootstrap=Ture, score=(train=0.920, test=0.849), total=   0.4s\n",
      "[CV] randomforestclassifier__n_estimators=200, randomforestclassifier__min_samples_split=2, randomforestclassifier__min_samples_leaf=4, randomforestclassifier__max_features=sqrt, randomforestclassifier__bootstrap=Ture \n",
      "[CV]  randomforestclassifier__n_estimators=200, randomforestclassifier__min_samples_split=2, randomforestclassifier__min_samples_leaf=4, randomforestclassifier__max_features=sqrt, randomforestclassifier__bootstrap=Ture, score=(train=0.927, test=0.854), total=   0.4s\n",
      "[CV] randomforestclassifier__n_estimators=100, randomforestclassifier__min_samples_split=5, randomforestclassifier__min_samples_leaf=2, randomforestclassifier__max_features=auto, randomforestclassifier__bootstrap=Ture \n",
      "[CV]  randomforestclassifier__n_estimators=100, randomforestclassifier__min_samples_split=5, randomforestclassifier__min_samples_leaf=2, randomforestclassifier__max_features=auto, randomforestclassifier__bootstrap=Ture, score=(train=0.960, test=0.823), total=   0.2s\n",
      "[CV] randomforestclassifier__n_estimators=100, randomforestclassifier__min_samples_split=5, randomforestclassifier__min_samples_leaf=2, randomforestclassifier__max_features=auto, randomforestclassifier__bootstrap=Ture \n",
      "[CV]  randomforestclassifier__n_estimators=100, randomforestclassifier__min_samples_split=5, randomforestclassifier__min_samples_leaf=2, randomforestclassifier__max_features=auto, randomforestclassifier__bootstrap=Ture, score=(train=0.967, test=0.814), total=   0.2s\n",
      "[CV] randomforestclassifier__n_estimators=100, randomforestclassifier__min_samples_split=5, randomforestclassifier__min_samples_leaf=2, randomforestclassifier__max_features=auto, randomforestclassifier__bootstrap=Ture \n",
      "[CV]  randomforestclassifier__n_estimators=100, randomforestclassifier__min_samples_split=5, randomforestclassifier__min_samples_leaf=2, randomforestclassifier__max_features=auto, randomforestclassifier__bootstrap=Ture, score=(train=0.959, test=0.795), total=   0.2s\n",
      "[CV] randomforestclassifier__n_estimators=100, randomforestclassifier__min_samples_split=5, randomforestclassifier__min_samples_leaf=2, randomforestclassifier__max_features=auto, randomforestclassifier__bootstrap=Ture \n",
      "[CV]  randomforestclassifier__n_estimators=100, randomforestclassifier__min_samples_split=5, randomforestclassifier__min_samples_leaf=2, randomforestclassifier__max_features=auto, randomforestclassifier__bootstrap=Ture, score=(train=0.964, test=0.863), total=   0.2s\n",
      "[CV] randomforestclassifier__n_estimators=100, randomforestclassifier__min_samples_split=5, randomforestclassifier__min_samples_leaf=2, randomforestclassifier__max_features=auto, randomforestclassifier__bootstrap=Ture \n",
      "[CV]  randomforestclassifier__n_estimators=100, randomforestclassifier__min_samples_split=5, randomforestclassifier__min_samples_leaf=2, randomforestclassifier__max_features=auto, randomforestclassifier__bootstrap=Ture, score=(train=0.967, test=0.868), total=   0.2s\n",
      "[CV] randomforestclassifier__n_estimators=150, randomforestclassifier__min_samples_split=2, randomforestclassifier__min_samples_leaf=1, randomforestclassifier__max_features=auto, randomforestclassifier__bootstrap=False \n",
      "[CV]  randomforestclassifier__n_estimators=150, randomforestclassifier__min_samples_split=2, randomforestclassifier__min_samples_leaf=1, randomforestclassifier__max_features=auto, randomforestclassifier__bootstrap=False, score=(train=1.000, test=0.814), total=   0.4s\n",
      "[CV] randomforestclassifier__n_estimators=150, randomforestclassifier__min_samples_split=2, randomforestclassifier__min_samples_leaf=1, randomforestclassifier__max_features=auto, randomforestclassifier__bootstrap=False \n"
     ]
    },
    {
     "name": "stdout",
     "output_type": "stream",
     "text": [
      "[CV]  randomforestclassifier__n_estimators=150, randomforestclassifier__min_samples_split=2, randomforestclassifier__min_samples_leaf=1, randomforestclassifier__max_features=auto, randomforestclassifier__bootstrap=False, score=(train=1.000, test=0.795), total=   0.3s\n",
      "[CV] randomforestclassifier__n_estimators=150, randomforestclassifier__min_samples_split=2, randomforestclassifier__min_samples_leaf=1, randomforestclassifier__max_features=auto, randomforestclassifier__bootstrap=False \n",
      "[CV]  randomforestclassifier__n_estimators=150, randomforestclassifier__min_samples_split=2, randomforestclassifier__min_samples_leaf=1, randomforestclassifier__max_features=auto, randomforestclassifier__bootstrap=False, score=(train=1.000, test=0.804), total=   0.3s\n",
      "[CV] randomforestclassifier__n_estimators=150, randomforestclassifier__min_samples_split=2, randomforestclassifier__min_samples_leaf=1, randomforestclassifier__max_features=auto, randomforestclassifier__bootstrap=False \n",
      "[CV]  randomforestclassifier__n_estimators=150, randomforestclassifier__min_samples_split=2, randomforestclassifier__min_samples_leaf=1, randomforestclassifier__max_features=auto, randomforestclassifier__bootstrap=False, score=(train=1.000, test=0.868), total=   0.3s\n",
      "[CV] randomforestclassifier__n_estimators=150, randomforestclassifier__min_samples_split=2, randomforestclassifier__min_samples_leaf=1, randomforestclassifier__max_features=auto, randomforestclassifier__bootstrap=False \n",
      "[CV]  randomforestclassifier__n_estimators=150, randomforestclassifier__min_samples_split=2, randomforestclassifier__min_samples_leaf=1, randomforestclassifier__max_features=auto, randomforestclassifier__bootstrap=False, score=(train=1.000, test=0.858), total=   0.4s\n",
      "[CV] randomforestclassifier__n_estimators=150, randomforestclassifier__min_samples_split=10, randomforestclassifier__min_samples_leaf=4, randomforestclassifier__max_features=auto, randomforestclassifier__bootstrap=False \n",
      "[CV]  randomforestclassifier__n_estimators=150, randomforestclassifier__min_samples_split=10, randomforestclassifier__min_samples_leaf=4, randomforestclassifier__max_features=auto, randomforestclassifier__bootstrap=False, score=(train=0.922, test=0.809), total=   0.4s\n",
      "[CV] randomforestclassifier__n_estimators=150, randomforestclassifier__min_samples_split=10, randomforestclassifier__min_samples_leaf=4, randomforestclassifier__max_features=auto, randomforestclassifier__bootstrap=False \n",
      "[CV]  randomforestclassifier__n_estimators=150, randomforestclassifier__min_samples_split=10, randomforestclassifier__min_samples_leaf=4, randomforestclassifier__max_features=auto, randomforestclassifier__bootstrap=False, score=(train=0.926, test=0.800), total=   0.4s\n",
      "[CV] randomforestclassifier__n_estimators=150, randomforestclassifier__min_samples_split=10, randomforestclassifier__min_samples_leaf=4, randomforestclassifier__max_features=auto, randomforestclassifier__bootstrap=False \n",
      "[CV]  randomforestclassifier__n_estimators=150, randomforestclassifier__min_samples_split=10, randomforestclassifier__min_samples_leaf=4, randomforestclassifier__max_features=auto, randomforestclassifier__bootstrap=False, score=(train=0.925, test=0.795), total=   0.3s\n",
      "[CV] randomforestclassifier__n_estimators=150, randomforestclassifier__min_samples_split=10, randomforestclassifier__min_samples_leaf=4, randomforestclassifier__max_features=auto, randomforestclassifier__bootstrap=False \n",
      "[CV]  randomforestclassifier__n_estimators=150, randomforestclassifier__min_samples_split=10, randomforestclassifier__min_samples_leaf=4, randomforestclassifier__max_features=auto, randomforestclassifier__bootstrap=False, score=(train=0.916, test=0.858), total=   0.3s\n",
      "[CV] randomforestclassifier__n_estimators=150, randomforestclassifier__min_samples_split=10, randomforestclassifier__min_samples_leaf=4, randomforestclassifier__max_features=auto, randomforestclassifier__bootstrap=False \n",
      "[CV]  randomforestclassifier__n_estimators=150, randomforestclassifier__min_samples_split=10, randomforestclassifier__min_samples_leaf=4, randomforestclassifier__max_features=auto, randomforestclassifier__bootstrap=False, score=(train=0.921, test=0.845), total=   0.3s\n"
     ]
    },
    {
     "name": "stderr",
     "output_type": "stream",
     "text": [
      "[Parallel(n_jobs=1)]: Done  35 out of  35 | elapsed:   13.5s finished\n"
     ]
    },
    {
     "data": {
      "text/plain": [
       "RandomizedSearchCV(cv=5,\n",
       "                   estimator=Pipeline(steps=[('ordinalencoder',\n",
       "                                              OrdinalEncoder()),\n",
       "                                             ('simpleimputer', SimpleImputer()),\n",
       "                                             ('randomforestclassifier',\n",
       "                                              RandomForestClassifier(random_state=42))]),\n",
       "                   n_iter=7,\n",
       "                   param_distributions={'randomforestclassifier__bootstrap': ['Ture',\n",
       "                                                                              'False'],\n",
       "                                        'randomforestclassifier__max_features': ['auto',\n",
       "                                                                                 'sqrt'],\n",
       "                                        'randomforestclassifier__min_samples_leaf': [1,\n",
       "                                                                                     2,\n",
       "                                                                                     4],\n",
       "                                        'randomforestclassifier__min_samples_split': [2,\n",
       "                                                                                      5,\n",
       "                                                                                      10],\n",
       "                                        'randomforestclassifier__n_estimators': [50,\n",
       "                                                                                 100,\n",
       "                                                                                 150,\n",
       "                                                                                 200]},\n",
       "                   return_train_score=True, scoring='accuracy', verbose=10)"
      ]
     },
     "execution_count": 52,
     "metadata": {},
     "output_type": "execute_result"
    }
   ],
   "source": [
    "from sklearn.model_selection import RandomizedSearchCV\n",
    "search = RandomizedSearchCV(\n",
    "    pipeline_RF,\n",
    "    param_distributions=param_distributions,\n",
    "    n_iter=7,\n",
    "    cv=5,\n",
    "    scoring='accuracy',\n",
    "    verbose=10,\n",
    "    return_train_score=True,\n",
    "    #n_jobs=-1\n",
    "\n",
    ")\n",
    "\n",
    "search.fit(X_train,y_train)"
   ]
  },
  {
   "cell_type": "code",
   "execution_count": 53,
   "metadata": {},
   "outputs": [
    {
     "name": "stdout",
     "output_type": "stream",
     "text": [
      "Best hyperparameters {'randomforestclassifier__n_estimators': 100, 'randomforestclassifier__min_samples_split': 5, 'randomforestclassifier__min_samples_leaf': 2, 'randomforestclassifier__max_features': 'auto', 'randomforestclassifier__bootstrap': 'Ture'}\n",
      "Cross_validation accuracy 0.8322955583229555\n"
     ]
    }
   ],
   "source": [
    "print('Best hyperparameters',search.best_params_)\n",
    "print('Cross_validation accuracy', search.best_score_)"
   ]
  },
  {
   "cell_type": "code",
   "execution_count": 54,
   "metadata": {},
   "outputs": [],
   "source": [
    "pipeline_RF = search.best_estimator_"
   ]
  },
  {
   "cell_type": "code",
   "execution_count": 97,
   "metadata": {},
   "outputs": [
    {
     "name": "stdout",
     "output_type": "stream",
     "text": [
      "Accuracy score of test set is: 0.8852459016393442\n"
     ]
    }
   ],
   "source": [
    "y_pred = pipeline_RF.predict(X_test)\n",
    "print('Accuracy score of test set is:',accuracy_score(y_test, y_pred))"
   ]
  },
  {
   "cell_type": "code",
   "execution_count": 98,
   "metadata": {},
   "outputs": [
    {
     "name": "stdout",
     "output_type": "stream",
     "text": [
      "Confusion Matrix of test set: \n",
      " [[79  3]\n",
      " [11 29]]\n",
      "\n",
      "\n",
      "Classification report of test set: \n",
      "               precision    recall  f1-score   support\n",
      "\n",
      "           0       0.88      0.96      0.92        82\n",
      "           1       0.91      0.72      0.81        40\n",
      "\n",
      "    accuracy                           0.89       122\n",
      "   macro avg       0.89      0.84      0.86       122\n",
      "weighted avg       0.89      0.89      0.88       122\n",
      "\n"
     ]
    }
   ],
   "source": [
    "print(f'Confusion Matrix of test set: \\n {confusion_matrix(y_test, y_pred)}')\n",
    "print('\\n')\n",
    "print(f'Classification report of test set: \\n {classification_report(y_test, y_pred)}')"
   ]
  },
  {
   "cell_type": "code",
   "execution_count": 57,
   "metadata": {},
   "outputs": [
    {
     "data": {
      "text/plain": [
       "array([[0.98422679, 0.01577321],\n",
       "       [0.72866667, 0.27133333],\n",
       "       [0.67604335, 0.32395665],\n",
       "       [0.93166667, 0.06833333],\n",
       "       [0.93854635, 0.06145365],\n",
       "       [0.30703104, 0.69296896],\n",
       "       [0.95261472, 0.04738528],\n",
       "       [0.94880952, 0.05119048],\n",
       "       [0.9840758 , 0.0159242 ],\n",
       "       [0.9387381 , 0.0612619 ],\n",
       "       [0.91329855, 0.08670145],\n",
       "       [0.91896992, 0.08103008],\n",
       "       [0.92034627, 0.07965373],\n",
       "       [0.97458333, 0.02541667],\n",
       "       [0.20260653, 0.79739347],\n",
       "       [0.99449146, 0.00550854],\n",
       "       [0.96994228, 0.03005772],\n",
       "       [0.77725397, 0.22274603],\n",
       "       [0.99504292, 0.00495708],\n",
       "       [0.24429062, 0.75570938],\n",
       "       [0.79108141, 0.20891859],\n",
       "       [0.80484541, 0.19515459],\n",
       "       [0.94616855, 0.05383145],\n",
       "       [0.54645591, 0.45354409],\n",
       "       [0.995     , 0.005     ],\n",
       "       [0.9082963 , 0.0917037 ],\n",
       "       [0.80944482, 0.19055518],\n",
       "       [0.48274046, 0.51725954],\n",
       "       [0.4524127 , 0.5475873 ],\n",
       "       [0.07421429, 0.92578571],\n",
       "       [0.64396825, 0.35603175],\n",
       "       [0.76277183, 0.23722817],\n",
       "       [0.69710525, 0.30289475],\n",
       "       [0.03083333, 0.96916667],\n",
       "       [0.30634908, 0.69365092],\n",
       "       [0.71292087, 0.28707913],\n",
       "       [0.64114001, 0.35885999],\n",
       "       [0.98570833, 0.01429167],\n",
       "       [0.78424335, 0.21575665],\n",
       "       [0.92578128, 0.07421872],\n",
       "       [0.92553806, 0.07446194],\n",
       "       [0.60572874, 0.39427126],\n",
       "       [0.79619683, 0.20380317],\n",
       "       [0.81947055, 0.18052945],\n",
       "       [0.74596182, 0.25403818],\n",
       "       [0.12708333, 0.87291667],\n",
       "       [0.13814343, 0.86185657],\n",
       "       [0.82536646, 0.17463354],\n",
       "       [0.15008333, 0.84991667],\n",
       "       [0.80511071, 0.19488929],\n",
       "       [0.99333333, 0.00666667],\n",
       "       [0.03338889, 0.96661111],\n",
       "       [0.93933333, 0.06066667],\n",
       "       [0.79369661, 0.20630339],\n",
       "       [0.38071429, 0.61928571],\n",
       "       [0.85103094, 0.14896906],\n",
       "       [0.45156349, 0.54843651],\n",
       "       [0.64964969, 0.35035031],\n",
       "       [0.91075909, 0.08924091],\n",
       "       [0.44064286, 0.55935714],\n",
       "       [0.46831342, 0.53168658],\n",
       "       [0.92442177, 0.07557823],\n",
       "       [0.87690183, 0.12309817],\n",
       "       [0.90632749, 0.09367251],\n",
       "       [0.96952381, 0.03047619],\n",
       "       [0.99166667, 0.00833333],\n",
       "       [0.39479144, 0.60520856],\n",
       "       [0.60876261, 0.39123739],\n",
       "       [0.91512363, 0.08487637],\n",
       "       [0.94157729, 0.05842271],\n",
       "       [0.80438449, 0.19561551],\n",
       "       [0.08833333, 0.91166667],\n",
       "       [0.59684108, 0.40315892],\n",
       "       [0.78738093, 0.21261907],\n",
       "       [0.91652109, 0.08347891],\n",
       "       [0.33839991, 0.66160009],\n",
       "       [0.8910728 , 0.1089272 ],\n",
       "       [0.72306213, 0.27693787],\n",
       "       [0.47624629, 0.52375371],\n",
       "       [0.99504292, 0.00495708],\n",
       "       [0.3456158 , 0.6543842 ],\n",
       "       [0.93191667, 0.06808333],\n",
       "       [0.92566593, 0.07433407],\n",
       "       [0.97843367, 0.02156633],\n",
       "       [0.9448961 , 0.0551039 ],\n",
       "       [0.98866071, 0.01133929],\n",
       "       [0.99218346, 0.00781654],\n",
       "       [0.081     , 0.919     ],\n",
       "       [0.89780952, 0.10219048],\n",
       "       [0.94861905, 0.05138095],\n",
       "       [0.72942462, 0.27057538],\n",
       "       [0.64347766, 0.35652234],\n",
       "       [0.80240309, 0.19759691],\n",
       "       [0.96716667, 0.03283333],\n",
       "       [0.36116667, 0.63883333],\n",
       "       [0.92524823, 0.07475177],\n",
       "       [0.71458048, 0.28541952],\n",
       "       [1.        , 0.        ],\n",
       "       [0.98354949, 0.01645051],\n",
       "       [0.13422222, 0.86577778],\n",
       "       [0.96236772, 0.03763228],\n",
       "       [0.07832479, 0.92167521],\n",
       "       [0.55378571, 0.44621429],\n",
       "       [0.03766667, 0.96233333],\n",
       "       [0.06595238, 0.93404762],\n",
       "       [0.99880423, 0.00119577],\n",
       "       [0.8600119 , 0.1399881 ],\n",
       "       [0.14155952, 0.85844048],\n",
       "       [0.55946441, 0.44053559],\n",
       "       [0.76748986, 0.23251014],\n",
       "       [0.36255952, 0.63744048],\n",
       "       [0.97558333, 0.02441667],\n",
       "       [0.88396753, 0.11603247],\n",
       "       [0.82669643, 0.17330357],\n",
       "       [0.75716924, 0.24283076],\n",
       "       [0.69738099, 0.30261901],\n",
       "       [0.29644706, 0.70355294],\n",
       "       [0.95608059, 0.04391941],\n",
       "       [1.        , 0.        ],\n",
       "       [0.42936412, 0.57063588],\n",
       "       [0.95331371, 0.04668629],\n",
       "       [0.29542465, 0.70457535]])"
      ]
     },
     "execution_count": 57,
     "metadata": {},
     "output_type": "execute_result"
    }
   ],
   "source": [
    "pipeline_RF.predict_proba(X_test)"
   ]
  },
  {
   "cell_type": "code",
   "execution_count": 58,
   "metadata": {},
   "outputs": [],
   "source": [
    "y_pred_proba = pipeline_RF.predict_proba(X_test)[:,1]"
   ]
  },
  {
   "cell_type": "code",
   "execution_count": 59,
   "metadata": {},
   "outputs": [
    {
     "data": {
      "text/plain": [
       "0.9457317073170732"
      ]
     },
     "execution_count": 59,
     "metadata": {},
     "output_type": "execute_result"
    }
   ],
   "source": [
    "roc_auc_score(y_test, y_pred_proba)"
   ]
  },
  {
   "cell_type": "code",
   "execution_count": 60,
   "metadata": {},
   "outputs": [],
   "source": [
    "fpr, tpr, thresholds = roc_curve(y_test, y_pred_proba)"
   ]
  },
  {
   "cell_type": "code",
   "execution_count": 61,
   "metadata": {},
   "outputs": [
    {
     "data": {
      "text/html": [
       "<div>\n",
       "<style scoped>\n",
       "    .dataframe tbody tr th:only-of-type {\n",
       "        vertical-align: middle;\n",
       "    }\n",
       "\n",
       "    .dataframe tbody tr th {\n",
       "        vertical-align: top;\n",
       "    }\n",
       "\n",
       "    .dataframe thead th {\n",
       "        text-align: right;\n",
       "    }\n",
       "</style>\n",
       "<table border=\"1\" class=\"dataframe\">\n",
       "  <thead>\n",
       "    <tr style=\"text-align: right;\">\n",
       "      <th></th>\n",
       "      <th>False Positive Rate</th>\n",
       "      <th>True Positive Rate</th>\n",
       "      <th>Threshold</th>\n",
       "    </tr>\n",
       "  </thead>\n",
       "  <tbody>\n",
       "    <tr>\n",
       "      <th>0</th>\n",
       "      <td>0.000000</td>\n",
       "      <td>0.000</td>\n",
       "      <td>1.969167</td>\n",
       "    </tr>\n",
       "    <tr>\n",
       "      <th>1</th>\n",
       "      <td>0.000000</td>\n",
       "      <td>0.025</td>\n",
       "      <td>0.969167</td>\n",
       "    </tr>\n",
       "    <tr>\n",
       "      <th>2</th>\n",
       "      <td>0.000000</td>\n",
       "      <td>0.225</td>\n",
       "      <td>0.872917</td>\n",
       "    </tr>\n",
       "    <tr>\n",
       "      <th>3</th>\n",
       "      <td>0.012195</td>\n",
       "      <td>0.225</td>\n",
       "      <td>0.865778</td>\n",
       "    </tr>\n",
       "    <tr>\n",
       "      <th>4</th>\n",
       "      <td>0.012195</td>\n",
       "      <td>0.600</td>\n",
       "      <td>0.605209</td>\n",
       "    </tr>\n",
       "    <tr>\n",
       "      <th>5</th>\n",
       "      <td>0.024390</td>\n",
       "      <td>0.600</td>\n",
       "      <td>0.570636</td>\n",
       "    </tr>\n",
       "    <tr>\n",
       "      <th>6</th>\n",
       "      <td>0.024390</td>\n",
       "      <td>0.725</td>\n",
       "      <td>0.523754</td>\n",
       "    </tr>\n",
       "    <tr>\n",
       "      <th>7</th>\n",
       "      <td>0.036585</td>\n",
       "      <td>0.725</td>\n",
       "      <td>0.517260</td>\n",
       "    </tr>\n",
       "    <tr>\n",
       "      <th>8</th>\n",
       "      <td>0.036585</td>\n",
       "      <td>0.750</td>\n",
       "      <td>0.453544</td>\n",
       "    </tr>\n",
       "    <tr>\n",
       "      <th>9</th>\n",
       "      <td>0.060976</td>\n",
       "      <td>0.750</td>\n",
       "      <td>0.440536</td>\n",
       "    </tr>\n",
       "    <tr>\n",
       "      <th>10</th>\n",
       "      <td>0.060976</td>\n",
       "      <td>0.825</td>\n",
       "      <td>0.391237</td>\n",
       "    </tr>\n",
       "    <tr>\n",
       "      <th>11</th>\n",
       "      <td>0.073171</td>\n",
       "      <td>0.825</td>\n",
       "      <td>0.358860</td>\n",
       "    </tr>\n",
       "    <tr>\n",
       "      <th>12</th>\n",
       "      <td>0.073171</td>\n",
       "      <td>0.850</td>\n",
       "      <td>0.356522</td>\n",
       "    </tr>\n",
       "    <tr>\n",
       "      <th>13</th>\n",
       "      <td>0.085366</td>\n",
       "      <td>0.850</td>\n",
       "      <td>0.356032</td>\n",
       "    </tr>\n",
       "    <tr>\n",
       "      <th>14</th>\n",
       "      <td>0.085366</td>\n",
       "      <td>0.900</td>\n",
       "      <td>0.323957</td>\n",
       "    </tr>\n",
       "    <tr>\n",
       "      <th>15</th>\n",
       "      <td>0.109756</td>\n",
       "      <td>0.900</td>\n",
       "      <td>0.302619</td>\n",
       "    </tr>\n",
       "    <tr>\n",
       "      <th>16</th>\n",
       "      <td>0.109756</td>\n",
       "      <td>0.925</td>\n",
       "      <td>0.287079</td>\n",
       "    </tr>\n",
       "    <tr>\n",
       "      <th>17</th>\n",
       "      <td>0.292683</td>\n",
       "      <td>0.925</td>\n",
       "      <td>0.197597</td>\n",
       "    </tr>\n",
       "    <tr>\n",
       "      <th>18</th>\n",
       "      <td>0.292683</td>\n",
       "      <td>0.950</td>\n",
       "      <td>0.195616</td>\n",
       "    </tr>\n",
       "    <tr>\n",
       "      <th>19</th>\n",
       "      <td>0.500000</td>\n",
       "      <td>0.950</td>\n",
       "      <td>0.084876</td>\n",
       "    </tr>\n",
       "    <tr>\n",
       "      <th>20</th>\n",
       "      <td>0.500000</td>\n",
       "      <td>1.000</td>\n",
       "      <td>0.081030</td>\n",
       "    </tr>\n",
       "    <tr>\n",
       "      <th>21</th>\n",
       "      <td>0.939024</td>\n",
       "      <td>1.000</td>\n",
       "      <td>0.005000</td>\n",
       "    </tr>\n",
       "    <tr>\n",
       "      <th>22</th>\n",
       "      <td>0.963415</td>\n",
       "      <td>1.000</td>\n",
       "      <td>0.004957</td>\n",
       "    </tr>\n",
       "    <tr>\n",
       "      <th>23</th>\n",
       "      <td>0.975610</td>\n",
       "      <td>1.000</td>\n",
       "      <td>0.001196</td>\n",
       "    </tr>\n",
       "    <tr>\n",
       "      <th>24</th>\n",
       "      <td>1.000000</td>\n",
       "      <td>1.000</td>\n",
       "      <td>0.000000</td>\n",
       "    </tr>\n",
       "  </tbody>\n",
       "</table>\n",
       "</div>"
      ],
      "text/plain": [
       "    False Positive Rate  True Positive Rate  Threshold\n",
       "0              0.000000               0.000   1.969167\n",
       "1              0.000000               0.025   0.969167\n",
       "2              0.000000               0.225   0.872917\n",
       "3              0.012195               0.225   0.865778\n",
       "4              0.012195               0.600   0.605209\n",
       "5              0.024390               0.600   0.570636\n",
       "6              0.024390               0.725   0.523754\n",
       "7              0.036585               0.725   0.517260\n",
       "8              0.036585               0.750   0.453544\n",
       "9              0.060976               0.750   0.440536\n",
       "10             0.060976               0.825   0.391237\n",
       "11             0.073171               0.825   0.358860\n",
       "12             0.073171               0.850   0.356522\n",
       "13             0.085366               0.850   0.356032\n",
       "14             0.085366               0.900   0.323957\n",
       "15             0.109756               0.900   0.302619\n",
       "16             0.109756               0.925   0.287079\n",
       "17             0.292683               0.925   0.197597\n",
       "18             0.292683               0.950   0.195616\n",
       "19             0.500000               0.950   0.084876\n",
       "20             0.500000               1.000   0.081030\n",
       "21             0.939024               1.000   0.005000\n",
       "22             0.963415               1.000   0.004957\n",
       "23             0.975610               1.000   0.001196\n",
       "24             1.000000               1.000   0.000000"
      ]
     },
     "execution_count": 61,
     "metadata": {},
     "output_type": "execute_result"
    }
   ],
   "source": [
    "pd.DataFrame({\n",
    "    'False Positive Rate': fpr,\n",
    "    'True Positive Rate': tpr,\n",
    "    'Threshold':thresholds\n",
    "})"
   ]
  },
  {
   "cell_type": "code",
   "execution_count": 62,
   "metadata": {},
   "outputs": [
    {
     "data": {
      "image/png": "[encoded data removed]",
      "text/plain": [
       "<Figure size 432x288 with 1 Axes>"
      ]
     },
     "metadata": {
      "needs_background": "light"
     },
     "output_type": "display_data"
    }
   ],
   "source": [
    "plt.figure(figsize=(6,4))\n",
    "plt.plot(fpr,tpr,linestyle='--',color='r')\n",
    "plt.title('ROC curve')\n",
    "plt.xlabel('False Positive Rate')\n",
    "plt.ylabel('True Positive Rate')\n",
    "plt.show();"
   ]
  },
  {
   "cell_type": "code",
   "execution_count": 63,
   "metadata": {},
   "outputs": [
    {
     "data": {
      "image/png": "[encoded data removed]",
      "text/plain": [
       "<Figure size 720x720 with 1 Axes>"
      ]
     },
     "metadata": {
      "needs_background": "light"
     },
     "output_type": "display_data"
    }
   ],
   "source": [
    "model_rf = pipeline_RF.named_steps['randomforestclassifier']\n",
    "importances = pd.Series(model_rf.feature_importances_, X_test.columns)\n",
    "plt.figure(figsize=(10, 10))\n",
    "plt.title('Feature Importance')\n",
    "importances.sort_values().plot.barh();"
   ]
  },
  {
   "cell_type": "code",
   "execution_count": 64,
   "metadata": {},
   "outputs": [
    {
     "name": "stdout",
     "output_type": "stream",
     "text": [
      "Variable: Hippocampus.bl       Importance: 0.22\n",
      "Variable: Entorhinal.bl        Importance: 0.15\n",
      "Variable: AGE                  Importance: 0.12\n",
      "Variable: APOE4                Importance: 0.11\n",
      "Variable: MidTemp.bl           Importance: 0.09\n",
      "Variable: WholeBrain.bl        Importance: 0.08\n",
      "Variable: PTEDUCAT             Importance: 0.06\n",
      "Variable: ABETA                Importance: 0.05\n",
      "Variable: PTGENDER             Importance: 0.03\n",
      "Variable: PTMARRY              Importance: 0.03\n",
      "Variable: TAU                  Importance: 0.03\n",
      "Variable: PTAU                 Importance: 0.03\n",
      "Variable: PTRACCAT             Importance: 0.01\n"
     ]
    }
   ],
   "source": [
    "# Get numerical feature importances\n",
    "importances = list(model_rf.feature_importances_)\n",
    "\n",
    "# List of tuples with variable and importance\n",
    "feature_importances = [(feature, round(importance, 2)) for feature, importance in zip(X_test.columns, importances)]\n",
    "\n",
    "# Sort the feature importances by most important first\n",
    "feature_importances = sorted(feature_importances, key = lambda x: x[1], reverse = True)\n",
    "\n",
    "# Print out the feature and importances \n",
    "[print('Variable: {:20} Importance: {}'.format(*pair)) for pair in feature_importances];"
   ]
  },
  {
   "cell_type": "markdown",
   "metadata": {},
   "source": [
    "Data subset with 'CN' and 'MCI'"
   ]
  },
  {
   "cell_type": "code",
   "execution_count": 67,
   "metadata": {},
   "outputs": [],
   "source": [
    "train_CM, test_CM = train_test_split(df_CM, train_size=0.9, test_size=0.1, stratify=df_CM['label_CM'], random_state=42)"
   ]
  },
  {
   "cell_type": "code",
   "execution_count": 69,
   "metadata": {},
   "outputs": [
    {
     "data": {
      "text/plain": [
       "((1662, 13), (1662,), (185, 13), (185,))"
      ]
     },
     "execution_count": 69,
     "metadata": {},
     "output_type": "execute_result"
    }
   ],
   "source": [
    "target_CM = 'label_CM'\n",
    "features_CM = ['AGE','PTGENDER','PTEDUCAT','PTRACCAT','PTMARRY','APOE4','ABETA','TAU','PTAU',\n",
    "            'Hippocampus.bl','WholeBrain.bl','Entorhinal.bl','MidTemp.bl']\n",
    "X_train_CM = train_CM[features_CM]\n",
    "y_train_CM = train_CM[target_CM]\n",
    "X_test_CM = test_CM[features_CM]\n",
    "y_test_CM = test_CM[target_CM]\n",
    "X_train_CM.shape, y_train_CM.shape, X_test_CM.shape, y_test_CM.shape"
   ]
  },
  {
   "cell_type": "code",
   "execution_count": 73,
   "metadata": {},
   "outputs": [
    {
     "data": {
      "text/plain": [
       "0    1\n",
       "dtype: int64"
      ]
     },
     "execution_count": 73,
     "metadata": {},
     "output_type": "execute_result"
    }
   ],
   "source": [
    "#Identify the baseline\n",
    "majority_class_CM = df_CM[target_CM].mode()\n",
    "majority_class_CM"
   ]
  },
  {
   "cell_type": "code",
   "execution_count": 75,
   "metadata": {},
   "outputs": [
    {
     "data": {
      "text/plain": [
       "0.5565782349756362"
      ]
     },
     "execution_count": 75,
     "metadata": {},
     "output_type": "execute_result"
    }
   ],
   "source": [
    "df_CM_bl = [majority_class_CM] * len(df_CM[target_CM])\n",
    "accuracy_score(df_CM[target_CM], df_CM_bl)"
   ]
  },
  {
   "cell_type": "code",
   "execution_count": 80,
   "metadata": {},
   "outputs": [],
   "source": [
    "pipeline_RF_CM = make_pipeline(\n",
    "    ce.ordinal.OrdinalEncoder(),\n",
    "    SimpleImputer(),\n",
    "    RandomForestClassifier(n_estimators=100,random_state=42)\n",
    ")\n",
    "k=5\n",
    "scores_rf_cm = cross_val_score(pipeline_RF_CM, X_train_CM, y_train_CM, cv=k,scoring = 'accuracy')"
   ]
  },
  {
   "cell_type": "code",
   "execution_count": 81,
   "metadata": {},
   "outputs": [],
   "source": [
    "pipeline_XG_CM = make_pipeline(\n",
    "    ce.ordinal.OrdinalEncoder(),\n",
    "    SimpleImputer(),\n",
    "    XGBClassifier(n_estimators=100, random_state=42, learning_rate=0.5)\n",
    ")\n",
    "k=5\n",
    "scores_xg_cm = cross_val_score(pipeline_XG_CM, X_train_CM, y_train_CM, cv=k,scoring = 'accuracy')"
   ]
  },
  {
   "cell_type": "code",
   "execution_count": 82,
   "metadata": {},
   "outputs": [
    {
     "name": "stdout",
     "output_type": "stream",
     "text": [
      "Random Forest model accuracy score for 5 folds:  [0.67867868 0.72372372 0.6686747  0.72590361 0.67168675]\n",
      "XGBoost model accuracy score for 5 folds:  [0.60960961 0.67267267 0.65361446 0.67771084 0.64457831]\n"
     ]
    }
   ],
   "source": [
    "print(f'Random Forest model accuracy score for {k} folds: ', scores_rf_cm)\n",
    "print(f'XGBoost model accuracy score for {k} folds: ', scores_xg_cm)"
   ]
  },
  {
   "cell_type": "code",
   "execution_count": 86,
   "metadata": {},
   "outputs": [
    {
     "name": "stdout",
     "output_type": "stream",
     "text": [
      "0.6937334925286732 0.6516371793480228\n"
     ]
    }
   ],
   "source": [
    "print(scores_rf_cm.mean(),scores_xg_cm.mean())"
   ]
  },
  {
   "cell_type": "markdown",
   "metadata": {},
   "source": [
    "According to accuracy score, random forest is superior. So I will use random forest model to do the following. "
   ]
  },
  {
   "cell_type": "code",
   "execution_count": 89,
   "metadata": {},
   "outputs": [
    {
     "data": {
      "text/plain": [
       "Pipeline(steps=[('ordinalencoder',\n",
       "                 OrdinalEncoder(cols=['PTGENDER', 'PTRACCAT', 'PTMARRY',\n",
       "                                      'ABETA', 'TAU', 'PTAU'],\n",
       "                                mapping=[{'col': 'PTGENDER',\n",
       "                                          'data_type': dtype('O'),\n",
       "                                          'mapping': Female    1\n",
       "Male      2\n",
       "NaN      -2\n",
       "dtype: int64},\n",
       "                                         {'col': 'PTRACCAT',\n",
       "                                          'data_type': dtype('O'),\n",
       "                                          'mapping': White                1\n",
       "Asian                2\n",
       "Black                3\n",
       "Unknown              4\n",
       "More than one        5\n",
       "Am Indian/Alaskan    6\n",
       "Hawaiian/Other PI    7\n",
       "NaN                 -2\n",
       "dtype: int64},\n",
       "                                         {'col': 'PT...\n",
       "                                         {'col': 'TAU', 'data_type': dtype('O'),\n",
       "                                          'mapping': 188.4      1\n",
       "217.4      2\n",
       "246.7      3\n",
       "267.1      4\n",
       "NaN        5\n",
       "        ... \n",
       "236.1    827\n",
       "366.6    828\n",
       "179.6    829\n",
       "278.7    830\n",
       "197.9    831\n",
       "Length: 831, dtype: int64},\n",
       "                                         {'col': 'PTAU',\n",
       "                                          'data_type': dtype('O'),\n",
       "                                          'mapping': 17.48      1\n",
       "19.6       2\n",
       "20.77      3\n",
       "26.51      4\n",
       "NaN        5\n",
       "        ... \n",
       "37.26    772\n",
       "22.57    773\n",
       "40.9     774\n",
       "15.4     775\n",
       "26.62    776\n",
       "Length: 776, dtype: int64}])),\n",
       "                ('simpleimputer', SimpleImputer()),\n",
       "                ('randomforestclassifier',\n",
       "                 RandomForestClassifier(random_state=42))])"
      ]
     },
     "execution_count": 89,
     "metadata": {},
     "output_type": "execute_result"
    }
   ],
   "source": [
    "pipeline_RF_CM.fit(X_train_CM, y_train_CM)"
   ]
  },
  {
   "cell_type": "code",
   "execution_count": 90,
   "metadata": {},
   "outputs": [
    {
     "name": "stdout",
     "output_type": "stream",
     "text": [
      "Accuracy score of test set is: 0.7189189189189189\n"
     ]
    }
   ],
   "source": [
    "y_pred_cm = pipeline_RF_CM.predict(X_test_CM)\n",
    "print('Accuracy score of test set is:',accuracy_score(y_test_CM, y_pred_cm))"
   ]
  },
  {
   "cell_type": "code",
   "execution_count": 100,
   "metadata": {},
   "outputs": [
    {
     "name": "stdout",
     "output_type": "stream",
     "text": [
      "Confusion Matrix of test set: \n",
      " [[58 24]\n",
      " [28 75]]\n",
      "\n",
      "\n",
      "Classification report of test set: \n",
      "               precision    recall  f1-score   support\n",
      "\n",
      "           0       0.67      0.71      0.69        82\n",
      "           1       0.76      0.73      0.74       103\n",
      "\n",
      "    accuracy                           0.72       185\n",
      "   macro avg       0.72      0.72      0.72       185\n",
      "weighted avg       0.72      0.72      0.72       185\n",
      "\n"
     ]
    }
   ],
   "source": [
    "print(f'Confusion Matrix of test set: \\n {confusion_matrix(y_test_CM, y_pred_cm)}')\n",
    "print('\\n')\n",
    "print(f'Classification report of test set: \\n {classification_report(y_test_CM, y_pred_cm)}')"
   ]
  },
  {
   "cell_type": "code",
   "execution_count": 102,
   "metadata": {},
   "outputs": [
    {
     "data": {
      "text/plain": [
       "array([[0.31      , 0.69      ],\n",
       "       [0.62      , 0.38      ],\n",
       "       [0.71      , 0.29      ],\n",
       "       [0.38      , 0.62      ],\n",
       "       [0.22      , 0.78      ],\n",
       "       [0.56      , 0.44      ],\n",
       "       [0.26      , 0.74      ],\n",
       "       [0.63      , 0.37      ],\n",
       "       [0.42      , 0.58      ],\n",
       "       [0.29      , 0.71      ],\n",
       "       [0.32      , 0.68      ],\n",
       "       [0.31      , 0.69      ],\n",
       "       [0.59      , 0.41      ],\n",
       "       [0.34      , 0.66      ],\n",
       "       [0.53      , 0.47      ],\n",
       "       [0.42      , 0.58      ],\n",
       "       [0.54      , 0.46      ],\n",
       "       [0.62      , 0.38      ],\n",
       "       [0.26      , 0.74      ],\n",
       "       [0.11      , 0.89      ],\n",
       "       [0.15      , 0.85      ],\n",
       "       [0.32      , 0.68      ],\n",
       "       [0.34      , 0.66      ],\n",
       "       [0.25      , 0.75      ],\n",
       "       [0.69      , 0.31      ],\n",
       "       [0.16      , 0.84      ],\n",
       "       [0.18      , 0.82      ],\n",
       "       [0.33      , 0.67      ],\n",
       "       [0.2       , 0.8       ],\n",
       "       [0.21      , 0.79      ],\n",
       "       [0.57      , 0.43      ],\n",
       "       [0.28      , 0.72      ],\n",
       "       [0.22      , 0.78      ],\n",
       "       [0.07      , 0.93      ],\n",
       "       [0.55      , 0.45      ],\n",
       "       [0.37      , 0.63      ],\n",
       "       [0.51      , 0.49      ],\n",
       "       [0.11      , 0.89      ],\n",
       "       [0.3       , 0.7       ],\n",
       "       [0.17      , 0.83      ],\n",
       "       [0.79      , 0.21      ],\n",
       "       [0.64      , 0.36      ],\n",
       "       [0.49      , 0.51      ],\n",
       "       [0.37      , 0.63      ],\n",
       "       [0.23      , 0.77      ],\n",
       "       [0.34      , 0.66      ],\n",
       "       [0.69      , 0.31      ],\n",
       "       [0.27      , 0.73      ],\n",
       "       [0.09      , 0.91      ],\n",
       "       [0.34      , 0.66      ],\n",
       "       [0.59      , 0.41      ],\n",
       "       [0.6       , 0.4       ],\n",
       "       [0.83      , 0.17      ],\n",
       "       [0.4       , 0.6       ],\n",
       "       [0.45      , 0.55      ],\n",
       "       [0.09      , 0.91      ],\n",
       "       [0.64      , 0.36      ],\n",
       "       [0.58      , 0.42      ],\n",
       "       [0.54      , 0.46      ],\n",
       "       [0.08      , 0.92      ],\n",
       "       [0.21      , 0.79      ],\n",
       "       [0.99      , 0.01      ],\n",
       "       [0.69      , 0.31      ],\n",
       "       [0.13      , 0.87      ],\n",
       "       [0.7       , 0.3       ],\n",
       "       [0.32      , 0.68      ],\n",
       "       [1.        , 0.        ],\n",
       "       [0.11      , 0.89      ],\n",
       "       [0.37      , 0.63      ],\n",
       "       [0.6       , 0.4       ],\n",
       "       [0.58      , 0.42      ],\n",
       "       [0.96      , 0.04      ],\n",
       "       [0.24      , 0.76      ],\n",
       "       [0.79      , 0.21      ],\n",
       "       [0.79      , 0.21      ],\n",
       "       [0.62      , 0.38      ],\n",
       "       [0.17      , 0.83      ],\n",
       "       [0.94      , 0.06      ],\n",
       "       [0.74      , 0.26      ],\n",
       "       [0.72      , 0.28      ],\n",
       "       [0.27      , 0.73      ],\n",
       "       [0.52      , 0.48      ],\n",
       "       [0.64      , 0.36      ],\n",
       "       [0.31      , 0.69      ],\n",
       "       [0.43      , 0.57      ],\n",
       "       [0.54      , 0.46      ],\n",
       "       [0.74      , 0.26      ],\n",
       "       [0.75      , 0.25      ],\n",
       "       [0.25      , 0.75      ],\n",
       "       [0.52      , 0.48      ],\n",
       "       [1.        , 0.        ],\n",
       "       [0.48      , 0.52      ],\n",
       "       [0.38      , 0.62      ],\n",
       "       [0.53      , 0.47      ],\n",
       "       [0.16      , 0.84      ],\n",
       "       [0.54      , 0.46      ],\n",
       "       [0.27      , 0.73      ],\n",
       "       [0.15      , 0.85      ],\n",
       "       [0.33      , 0.67      ],\n",
       "       [0.97      , 0.03      ],\n",
       "       [0.32      , 0.68      ],\n",
       "       [0.46      , 0.54      ],\n",
       "       [0.63      , 0.37      ],\n",
       "       [0.32      , 0.68      ],\n",
       "       [0.7       , 0.3       ],\n",
       "       [0.49      , 0.51      ],\n",
       "       [0.63      , 0.37      ],\n",
       "       [0.89      , 0.11      ],\n",
       "       [0.38      , 0.62      ],\n",
       "       [0.63458333, 0.36541667],\n",
       "       [0.71      , 0.29      ],\n",
       "       [0.98      , 0.02      ],\n",
       "       [0.47      , 0.53      ],\n",
       "       [0.58      , 0.42      ],\n",
       "       [0.55      , 0.45      ],\n",
       "       [0.42      , 0.58      ],\n",
       "       [0.47      , 0.53      ],\n",
       "       [0.64      , 0.36      ],\n",
       "       [0.44      , 0.56      ],\n",
       "       [0.19      , 0.81      ],\n",
       "       [0.49      , 0.51      ],\n",
       "       [0.64      , 0.36      ],\n",
       "       [0.676     , 0.324     ],\n",
       "       [0.58      , 0.42      ],\n",
       "       [0.68      , 0.32      ],\n",
       "       [0.31      , 0.69      ],\n",
       "       [0.7       , 0.3       ],\n",
       "       [0.44      , 0.56      ],\n",
       "       [0.31      , 0.69      ],\n",
       "       [0.58      , 0.42      ],\n",
       "       [0.64      , 0.36      ],\n",
       "       [0.55      , 0.45      ],\n",
       "       [0.49      , 0.51      ],\n",
       "       [0.65      , 0.35      ],\n",
       "       [0.444     , 0.556     ],\n",
       "       [1.        , 0.        ],\n",
       "       [0.31      , 0.69      ],\n",
       "       [0.22      , 0.78      ],\n",
       "       [0.81      , 0.19      ],\n",
       "       [0.47      , 0.53      ],\n",
       "       [0.59      , 0.41      ],\n",
       "       [0.37      , 0.63      ],\n",
       "       [0.21      , 0.79      ],\n",
       "       [0.9       , 0.1       ],\n",
       "       [0.32      , 0.68      ],\n",
       "       [0.49      , 0.51      ],\n",
       "       [0.09      , 0.91      ],\n",
       "       [0.23      , 0.77      ],\n",
       "       [0.78      , 0.22      ],\n",
       "       [1.        , 0.        ],\n",
       "       [0.28      , 0.72      ],\n",
       "       [0.36      , 0.64      ],\n",
       "       [0.44      , 0.56      ],\n",
       "       [0.82      , 0.18      ],\n",
       "       [0.4       , 0.6       ],\n",
       "       [0.91      , 0.09      ],\n",
       "       [0.97      , 0.03      ],\n",
       "       [0.13      , 0.87      ],\n",
       "       [0.48      , 0.52      ],\n",
       "       [0.57      , 0.43      ],\n",
       "       [0.83      , 0.17      ],\n",
       "       [0.54      , 0.46      ],\n",
       "       [0.73      , 0.27      ],\n",
       "       [0.17      , 0.83      ],\n",
       "       [0.54      , 0.46      ],\n",
       "       [0.3       , 0.7       ],\n",
       "       [0.53      , 0.47      ],\n",
       "       [0.04      , 0.96      ],\n",
       "       [0.23      , 0.77      ],\n",
       "       [0.67      , 0.33      ],\n",
       "       [0.48      , 0.52      ],\n",
       "       [0.39      , 0.61      ],\n",
       "       [0.55      , 0.45      ],\n",
       "       [0.38      , 0.62      ],\n",
       "       [0.54      , 0.46      ],\n",
       "       [0.41      , 0.59      ],\n",
       "       [0.51      , 0.49      ],\n",
       "       [0.54      , 0.46      ],\n",
       "       [0.03      , 0.97      ],\n",
       "       [0.62      , 0.38      ],\n",
       "       [0.4       , 0.6       ],\n",
       "       [0.44      , 0.56      ],\n",
       "       [0.61      , 0.39      ],\n",
       "       [0.13      , 0.87      ],\n",
       "       [0.62      , 0.38      ]])"
      ]
     },
     "execution_count": 102,
     "metadata": {},
     "output_type": "execute_result"
    }
   ],
   "source": [
    "pipeline_RF_CM.predict_proba(X_test_CM)"
   ]
  },
  {
   "cell_type": "code",
   "execution_count": 104,
   "metadata": {},
   "outputs": [],
   "source": [
    "y_pred_proba_CM = pipeline_RF_CM.predict_proba(X_test_CM)[:,1]"
   ]
  },
  {
   "cell_type": "code",
   "execution_count": 106,
   "metadata": {},
   "outputs": [
    {
     "data": {
      "text/plain": [
       "0.7528415818138764"
      ]
     },
     "execution_count": 106,
     "metadata": {},
     "output_type": "execute_result"
    }
   ],
   "source": [
    "roc_auc_score(y_test_CM, y_pred_proba_CM)"
   ]
  },
  {
   "cell_type": "markdown",
   "metadata": {},
   "source": [
    "Data subset with 'MCI' and 'AD'"
   ]
  },
  {
   "cell_type": "code",
   "execution_count": 71,
   "metadata": {},
   "outputs": [],
   "source": [
    "train_MA, test_MA = train_test_split(df_MA, train_size=0.9, test_size=0.1, stratify=df_MA['label_MA'], random_state=42)"
   ]
  },
  {
   "cell_type": "code",
   "execution_count": 72,
   "metadata": {},
   "outputs": [
    {
     "data": {
      "text/plain": [
       "((1285, 13), (1285,), (143, 13), (143,))"
      ]
     },
     "execution_count": 72,
     "metadata": {},
     "output_type": "execute_result"
    }
   ],
   "source": [
    "target_MA = 'label_MA'\n",
    "features_MA = ['AGE','PTGENDER','PTEDUCAT','PTRACCAT','PTMARRY','APOE4','ABETA','TAU','PTAU',\n",
    "            'Hippocampus.bl','WholeBrain.bl','Entorhinal.bl','MidTemp.bl']\n",
    "X_train_MA = train_MA[features_MA]\n",
    "y_train_MA = train_MA[target_MA]\n",
    "X_test_MA = test_MA[features_MA]\n",
    "y_test_MA = test_MA[target_MA]\n",
    "X_train_MA.shape, y_train_MA.shape, X_test_MA.shape, y_test_MA.shape"
   ]
  },
  {
   "cell_type": "code",
   "execution_count": 74,
   "metadata": {},
   "outputs": [
    {
     "data": {
      "text/plain": [
       "0    0\n",
       "dtype: int64"
      ]
     },
     "execution_count": 74,
     "metadata": {},
     "output_type": "execute_result"
    }
   ],
   "source": [
    "#Identify the baseline\n",
    "majority_class_MA = df_MA[target_MA].mode()\n",
    "majority_class_MA"
   ]
  },
  {
   "cell_type": "code",
   "execution_count": 76,
   "metadata": {},
   "outputs": [
    {
     "data": {
      "text/plain": [
       "0.7198879551820728"
      ]
     },
     "execution_count": 76,
     "metadata": {},
     "output_type": "execute_result"
    }
   ],
   "source": [
    "df_MA_bl = [majority_class_MA] * len(df_MA[target_MA])\n",
    "accuracy_score(df_MA[target_MA], df_MA_bl)"
   ]
  },
  {
   "cell_type": "code",
   "execution_count": 83,
   "metadata": {},
   "outputs": [],
   "source": [
    "pipeline_RF_MA = make_pipeline(\n",
    "    ce.ordinal.OrdinalEncoder(),\n",
    "    SimpleImputer(),\n",
    "    RandomForestClassifier(n_estimators=100,random_state=42)\n",
    ")\n",
    "k=5\n",
    "scores_rf_ma = cross_val_score(pipeline_RF_MA, X_train_MA, y_train_MA, cv=k,scoring = 'accuracy')"
   ]
  },
  {
   "cell_type": "code",
   "execution_count": 84,
   "metadata": {},
   "outputs": [],
   "source": [
    "pipeline_XG_MA = make_pipeline(\n",
    "    ce.ordinal.OrdinalEncoder(),\n",
    "    SimpleImputer(),\n",
    "    XGBClassifier(n_estimators=100, random_state=42, learning_rate=0.5)\n",
    ")\n",
    "k=5\n",
    "scores_xg_ma = cross_val_score(pipeline_XG_MA, X_train_MA, y_train_MA, cv=k,scoring = 'accuracy')"
   ]
  },
  {
   "cell_type": "code",
   "execution_count": 85,
   "metadata": {},
   "outputs": [
    {
     "name": "stdout",
     "output_type": "stream",
     "text": [
      "Random Forest model accuracy score for 5 folds:  [0.71206226 0.73929961 0.76264591 0.71206226 0.71595331]\n",
      "XGBoost model accuracy score for 5 folds:  [0.70038911 0.73929961 0.71595331 0.69649805 0.68093385]\n"
     ]
    }
   ],
   "source": [
    "print(f'Random Forest model accuracy score for {k} folds: ', scores_rf_ma)\n",
    "print(f'XGBoost model accuracy score for {k} folds: ', scores_xg_ma)"
   ]
  },
  {
   "cell_type": "code",
   "execution_count": 87,
   "metadata": {},
   "outputs": [
    {
     "name": "stdout",
     "output_type": "stream",
     "text": [
      "0.7284046692607005 0.7066147859922178\n"
     ]
    }
   ],
   "source": [
    "print(scores_rf_ma.mean(),scores_xg_ma.mean())"
   ]
  },
  {
   "cell_type": "code",
   "execution_count": 92,
   "metadata": {},
   "outputs": [
    {
     "data": {
      "text/plain": [
       "Pipeline(steps=[('ordinalencoder',\n",
       "                 OrdinalEncoder(cols=['PTGENDER', 'PTRACCAT', 'PTMARRY',\n",
       "                                      'ABETA', 'TAU', 'PTAU'],\n",
       "                                mapping=[{'col': 'PTGENDER',\n",
       "                                          'data_type': dtype('O'),\n",
       "                                          'mapping': Male      1\n",
       "Female    2\n",
       "NaN      -2\n",
       "dtype: int64},\n",
       "                                         {'col': 'PTRACCAT',\n",
       "                                          'data_type': dtype('O'),\n",
       "                                          'mapping': Black                1\n",
       "White                2\n",
       "More than one        3\n",
       "Asian                4\n",
       "Am Indian/Alaskan    5\n",
       "Unknown              6\n",
       "Hawaiian/Other PI    7\n",
       "NaN                 -2\n",
       "dtype: int64},\n",
       "                                         {'col': 'PT...\n",
       "                                          'mapping': 337.6      1\n",
       "219.9      2\n",
       "134.9      3\n",
       "NaN        4\n",
       "359.0      5\n",
       "        ... \n",
       "115.4    729\n",
       "230.6    730\n",
       "413.1    731\n",
       "153.5    732\n",
       "333.1    733\n",
       "Length: 733, dtype: int64},\n",
       "                                         {'col': 'PTAU',\n",
       "                                          'data_type': dtype('O'),\n",
       "                                          'mapping': 30.47      1\n",
       "20.62      2\n",
       "11.45      3\n",
       "NaN        4\n",
       "32.75      5\n",
       "        ... \n",
       "10.46    694\n",
       "24.49    695\n",
       "34.2     696\n",
       "13.46    697\n",
       "28.5     698\n",
       "Length: 698, dtype: int64}])),\n",
       "                ('simpleimputer', SimpleImputer()),\n",
       "                ('randomforestclassifier',\n",
       "                 RandomForestClassifier(random_state=42))])"
      ]
     },
     "execution_count": 92,
     "metadata": {},
     "output_type": "execute_result"
    }
   ],
   "source": [
    "pipeline_RF_MA.fit(X_train_MA, y_train_MA)"
   ]
  },
  {
   "cell_type": "code",
   "execution_count": 93,
   "metadata": {},
   "outputs": [
    {
     "name": "stdout",
     "output_type": "stream",
     "text": [
      "Accuracy score of test set is: 0.6923076923076923\n"
     ]
    }
   ],
   "source": [
    "y_pred_MA = pipeline_RF_MA.predict(X_test_MA)\n",
    "print('Accuracy score of test set is:',accuracy_score(y_test_MA, y_pred_MA))"
   ]
  },
  {
   "cell_type": "code",
   "execution_count": 99,
   "metadata": {},
   "outputs": [
    {
     "name": "stdout",
     "output_type": "stream",
     "text": [
      "Confusion Matrix of test set: \n",
      " [[89 14]\n",
      " [30 10]]\n",
      "\n",
      "\n",
      "Classification report of test set: \n",
      "               precision    recall  f1-score   support\n",
      "\n",
      "           0       0.75      0.86      0.80       103\n",
      "           1       0.42      0.25      0.31        40\n",
      "\n",
      "    accuracy                           0.69       143\n",
      "   macro avg       0.58      0.56      0.56       143\n",
      "weighted avg       0.66      0.69      0.66       143\n",
      "\n"
     ]
    }
   ],
   "source": [
    "print(f'Confusion Matrix of test set: \\n {confusion_matrix(y_test_MA, y_pred_MA)}')\n",
    "print('\\n')\n",
    "print(f'Classification report of test set: \\n {classification_report(y_test_MA, y_pred_MA)}')"
   ]
  },
  {
   "cell_type": "code",
   "execution_count": 101,
   "metadata": {},
   "outputs": [
    {
     "data": {
      "text/plain": [
       "array([[0.67, 0.33],\n",
       "       [0.97, 0.03],\n",
       "       [0.96, 0.04],\n",
       "       [0.48, 0.52],\n",
       "       [0.7 , 0.3 ],\n",
       "       [0.69, 0.31],\n",
       "       [0.75, 0.25],\n",
       "       [0.77, 0.23],\n",
       "       [0.91, 0.09],\n",
       "       [0.44, 0.56],\n",
       "       [0.33, 0.67],\n",
       "       [0.77, 0.23],\n",
       "       [0.8 , 0.2 ],\n",
       "       [0.22, 0.78],\n",
       "       [0.94, 0.06],\n",
       "       [0.64, 0.36],\n",
       "       [0.43, 0.57],\n",
       "       [1.  , 0.  ],\n",
       "       [0.73, 0.27],\n",
       "       [0.35, 0.65],\n",
       "       [0.98, 0.02],\n",
       "       [1.  , 0.  ],\n",
       "       [0.83, 0.17],\n",
       "       [0.59, 0.41],\n",
       "       [0.78, 0.22],\n",
       "       [0.52, 0.48],\n",
       "       [0.51, 0.49],\n",
       "       [0.69, 0.31],\n",
       "       [0.93, 0.07],\n",
       "       [0.42, 0.58],\n",
       "       [0.58, 0.42],\n",
       "       [0.89, 0.11],\n",
       "       [0.4 , 0.6 ],\n",
       "       [0.98, 0.02],\n",
       "       [0.45, 0.55],\n",
       "       [0.97, 0.03],\n",
       "       [0.89, 0.11],\n",
       "       [0.93, 0.07],\n",
       "       [0.92, 0.08],\n",
       "       [0.88, 0.12],\n",
       "       [0.74, 0.26],\n",
       "       [0.7 , 0.3 ],\n",
       "       [0.66, 0.34],\n",
       "       [0.88, 0.12],\n",
       "       [0.94, 0.06],\n",
       "       [0.48, 0.52],\n",
       "       [0.98, 0.02],\n",
       "       [0.75, 0.25],\n",
       "       [0.93, 0.07],\n",
       "       [0.88, 0.12],\n",
       "       [0.33, 0.67],\n",
       "       [0.71, 0.29],\n",
       "       [0.62, 0.38],\n",
       "       [0.62, 0.38],\n",
       "       [0.9 , 0.1 ],\n",
       "       [0.54, 0.46],\n",
       "       [0.86, 0.14],\n",
       "       [0.93, 0.07],\n",
       "       [0.94, 0.06],\n",
       "       [0.39, 0.61],\n",
       "       [0.86, 0.14],\n",
       "       [0.88, 0.12],\n",
       "       [0.96, 0.04],\n",
       "       [0.94, 0.06],\n",
       "       [0.93, 0.07],\n",
       "       [0.76, 0.24],\n",
       "       [0.88, 0.12],\n",
       "       [0.8 , 0.2 ],\n",
       "       [0.68, 0.32],\n",
       "       [0.59, 0.41],\n",
       "       [0.4 , 0.6 ],\n",
       "       [0.5 , 0.5 ],\n",
       "       [0.71, 0.29],\n",
       "       [0.95, 0.05],\n",
       "       [0.73, 0.27],\n",
       "       [0.64, 0.36],\n",
       "       [0.27, 0.73],\n",
       "       [0.85, 0.15],\n",
       "       [0.93, 0.07],\n",
       "       [0.55, 0.45],\n",
       "       [0.54, 0.46],\n",
       "       [0.34, 0.66],\n",
       "       [0.82, 0.18],\n",
       "       [0.89, 0.11],\n",
       "       [0.87, 0.13],\n",
       "       [0.81, 0.19],\n",
       "       [0.62, 0.38],\n",
       "       [0.75, 0.25],\n",
       "       [0.69, 0.31],\n",
       "       [0.93, 0.07],\n",
       "       [0.93, 0.07],\n",
       "       [0.84, 0.16],\n",
       "       [0.92, 0.08],\n",
       "       [0.28, 0.72],\n",
       "       [0.86, 0.14],\n",
       "       [0.68, 0.32],\n",
       "       [0.6 , 0.4 ],\n",
       "       [0.74, 0.26],\n",
       "       [0.55, 0.45],\n",
       "       [0.72, 0.28],\n",
       "       [0.77, 0.23],\n",
       "       [0.42, 0.58],\n",
       "       [0.94, 0.06],\n",
       "       [0.6 , 0.4 ],\n",
       "       [0.49, 0.51],\n",
       "       [0.67, 0.33],\n",
       "       [0.41, 0.59],\n",
       "       [0.83, 0.17],\n",
       "       [0.88, 0.12],\n",
       "       [0.43, 0.57],\n",
       "       [0.81, 0.19],\n",
       "       [0.92, 0.08],\n",
       "       [0.62, 0.38],\n",
       "       [0.72, 0.28],\n",
       "       [0.56, 0.44],\n",
       "       [0.51, 0.49],\n",
       "       [0.66, 0.34],\n",
       "       [0.86, 0.14],\n",
       "       [0.91, 0.09],\n",
       "       [0.88, 0.12],\n",
       "       [0.49, 0.51],\n",
       "       [0.7 , 0.3 ],\n",
       "       [0.9 , 0.1 ],\n",
       "       [0.47, 0.53],\n",
       "       [0.99, 0.01],\n",
       "       [0.8 , 0.2 ],\n",
       "       [0.98, 0.02],\n",
       "       [0.33, 0.67],\n",
       "       [0.96, 0.04],\n",
       "       [0.91, 0.09],\n",
       "       [0.95, 0.05],\n",
       "       [0.99, 0.01],\n",
       "       [0.63, 0.37],\n",
       "       [0.96, 0.04],\n",
       "       [0.63, 0.37],\n",
       "       [0.99, 0.01],\n",
       "       [0.79, 0.21],\n",
       "       [0.77, 0.23],\n",
       "       [0.86, 0.14],\n",
       "       [0.75, 0.25],\n",
       "       [0.78, 0.22],\n",
       "       [0.26, 0.74],\n",
       "       [0.65, 0.35]])"
      ]
     },
     "execution_count": 101,
     "metadata": {},
     "output_type": "execute_result"
    }
   ],
   "source": [
    "pipeline_RF_MA.predict_proba(X_test_MA)"
   ]
  },
  {
   "cell_type": "code",
   "execution_count": 103,
   "metadata": {},
   "outputs": [],
   "source": [
    "y_pred_proba_MA = pipeline_RF_MA.predict_proba(X_test_MA)[:,1]"
   ]
  },
  {
   "cell_type": "code",
   "execution_count": 105,
   "metadata": {},
   "outputs": [
    {
     "data": {
      "text/plain": [
       "0.7173543689320389"
      ]
     },
     "execution_count": 105,
     "metadata": {},
     "output_type": "execute_result"
    }
   ],
   "source": [
    "roc_auc_score(y_test_MA, y_pred_proba_MA)"
   ]
  },
  {
   "cell_type": "code",
   "execution_count": null,
   "metadata": {},
   "outputs": [],
   "source": []
  }
 ],
 "metadata": {
  "kernelspec": {
   "display_name": "Python 3",
   "language": "python",
   "name": "python3"
  },
  "language_info": {
   "codemirror_mode": {
    "name": "ipython",
    "version": 3
   },
   "file_extension": ".py",
   "mimetype": "text/x-python",
   "name": "python",
   "nbconvert_exporter": "python",
   "pygments_lexer": "ipython3",
   "version": "3.7.4"
  }
 },
 "nbformat": 4,
 "nbformat_minor": 2
}
